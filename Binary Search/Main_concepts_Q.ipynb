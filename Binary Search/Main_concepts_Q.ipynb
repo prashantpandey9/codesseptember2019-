{
 "cells": [
  {
   "cell_type": "markdown",
   "id": "simplified-latvia",
   "metadata": {},
   "source": [
    "## Binary Search \n"
   ]
  },
  {
   "cell_type": "markdown",
   "id": "superb-temperature",
   "metadata": {},
   "source": [
    "### Main Code "
   ]
  },
  {
   "cell_type": "code",
   "execution_count": 2,
   "id": "balanced-algebra",
   "metadata": {},
   "outputs": [
    {
     "name": "stdout",
     "output_type": "stream",
     "text": [
      "1 5 6  7 9  19 20 \n",
      "19\n",
      "5\n"
     ]
    }
   ],
   "source": [
    "def binarySearch(arr, target):\n",
    "    left = 0\n",
    "    right = len(arr)-1\n",
    "    while left<=right:\n",
    "        mid = left + (right-left)//2\n",
    "        if target == arr[mid]:\n",
    "            return mid\n",
    "        elif target < arr[mid]:\n",
    "            right = mid - 1\n",
    "        else:\n",
    "            left = mid + 1\n",
    "\n",
    "arr = list(map(int,input().split()))\n",
    "target = int(input())\n",
    "print(binarySearch(arr, target))"
   ]
  },
  {
   "cell_type": "markdown",
   "id": "romance-ecuador",
   "metadata": {},
   "source": [
    "### Q1. Find First and Last Position of Element in Sorted Array\n",
    "https://leetcode.com/problems/find-first-and-last-position-of-element-in-sorted-array/"
   ]
  },
  {
   "cell_type": "raw",
   "id": "gorgeous-substance",
   "metadata": {},
   "source": [
    "Example 1:\n",
    "\n",
    "Input: nums = [5,7,7,8,8,10], target = 8\n",
    "Output: [3,4]"
   ]
  },
  {
   "cell_type": "code",
   "execution_count": 10,
   "id": "sharp-remove",
   "metadata": {},
   "outputs": [
    {
     "name": "stdout",
     "output_type": "stream",
     "text": [
      "2 4 10 10 10 18 20\n",
      "10\n",
      "[2, 4]\n"
     ]
    }
   ],
   "source": [
    "def firstOc(arr, target):\n",
    "    res = -1\n",
    "    left = 0\n",
    "    right = len(arr)-1\n",
    "    while left<=right:\n",
    "        mid = left + (right-left)//2\n",
    "        if target == arr[mid]:\n",
    "            res = mid\n",
    "            right = mid - 1\n",
    "        elif target < arr[mid]:\n",
    "            right = mid - 1\n",
    "        else:\n",
    "            left = mid + 1\n",
    "    return res\n",
    "\n",
    "def lastOc(arr, target):\n",
    "    res = -1\n",
    "    left = 0\n",
    "    right = len(arr)-1\n",
    "    while left<=right:\n",
    "        mid = left + (right-left)//2\n",
    "        if target == arr[mid]:\n",
    "            res = mid\n",
    "            left = mid + 1\n",
    "        elif target < arr[mid]:\n",
    "            right = mid - 1\n",
    "        else:\n",
    "            left = mid + 1\n",
    "    return res\n",
    "\n",
    "arr = list(map(int,input().split()))\n",
    "target = int(input())\n",
    "ans = []\n",
    "first = firstOc(arr, target)\n",
    "ans.append(first)\n",
    "last = lastOc(arr, target)\n",
    "ans.append(last)\n",
    "        \n",
    "print(ans)"
   ]
  },
  {
   "cell_type": "markdown",
   "id": "transparent-change",
   "metadata": {},
   "source": [
    "### Q2. Count of an Element in a Sorted Array\n",
    "\n",
    "PROBLEM STATEMENT LINK:https://www.geeksforgeeks.org/count-number-of-occurrences-or-frequency-in-a-sorted-array/"
   ]
  },
  {
   "cell_type": "raw",
   "id": "deluxe-roller",
   "metadata": {},
   "source": [
    "COUNT NUMBER OF OCURRENCES(or frequency) IN A SORTED ARRAY:\n",
    "\n",
    "Given a sorted array arr[] and a number x, write a function that counts the occurrences of x in arr[]. Expected time complexity is O(Logn)\n",
    "Examples:\n",
    "\n",
    "  Input: arr[] = {1, 1, 2, 2, 2, 2, 3,},   x = 2\n",
    "  Output: 4 // x (or 2) occurs 4 times in arr[]\n",
    "\n",
    "  Input: arr[] = {1, 1, 2, 2, 2, 2, 3,},   x = 3\n",
    "  Output: 1 \n"
   ]
  },
  {
   "cell_type": "code",
   "execution_count": 12,
   "id": "level-cover",
   "metadata": {},
   "outputs": [
    {
     "name": "stdout",
     "output_type": "stream",
     "text": [
      "2 5 5 6 6 6 8\n",
      "5\n",
      "2\n"
     ]
    }
   ],
   "source": [
    "def firstOc(arr, target):\n",
    "    res = -1\n",
    "    left = 0\n",
    "    right = len(arr)-1\n",
    "    while left<=right:\n",
    "        mid = left + (right-left)//2\n",
    "        if target == arr[mid]:\n",
    "            res = mid\n",
    "            right = mid - 1\n",
    "        elif target < arr[mid]:\n",
    "            right = mid - 1\n",
    "        else:\n",
    "            left = mid + 1\n",
    "    return res\n",
    "\n",
    "def lastOc(arr, target):\n",
    "    res = -1\n",
    "    left = 0\n",
    "    right = len(arr)-1\n",
    "    while left<=right:\n",
    "        mid = left + (right-left)//2\n",
    "        if target == arr[mid]:\n",
    "            res = mid\n",
    "            left = mid + 1\n",
    "        elif target < arr[mid]:\n",
    "            right = mid - 1\n",
    "        else:\n",
    "            left = mid + 1\n",
    "    return res\n",
    "\n",
    "arr = list(map(int,input().split()))\n",
    "target = int(input())\n",
    "ans = []\n",
    "first = firstOc(arr, target)\n",
    "ans.append(first)\n",
    "last = lastOc(arr, target)\n",
    "ans.append(last)\n",
    "\n",
    "print((ans[1]-ans[0])+1)\n",
    "        "
   ]
  },
  {
   "cell_type": "markdown",
   "id": "prospective-elimination",
   "metadata": {},
   "source": [
    "### Q3. How many times a sorted array is rotated\n",
    "\n",
    "https://leetcode.com/problems/find-peak-element/"
   ]
  },
  {
   "cell_type": "raw",
   "id": "baking-international",
   "metadata": {},
   "source": [
    "Find the Rotation Count in Rotated Sorted array\n",
    "Consider an array of distinct numbers sorted in increasing order. The array has been rotated (clockwise) k number of times. Given such an array, find the value of k.\n",
    "\n",
    "Examples:\n",
    "\n",
    "Input : arr[] = {15, 18, 2, 3, 6, 12}\n",
    "Output: 2\n",
    "Explanation : Initial array must be {2, 3,\n",
    "6, 12, 15, 18}. We get the given array after \n",
    "rotating the initial array twice.\n",
    "\n",
    "Input : arr[] = {7, 9, 11, 12, 5}\n",
    "Output: 4\n",
    "\n",
    "Input: arr[] = {7, 9, 11, 12, 15};\n",
    "Output: 0"
   ]
  },
  {
   "cell_type": "code",
   "execution_count": 17,
   "id": "square-egypt",
   "metadata": {},
   "outputs": [
    {
     "name": "stdout",
     "output_type": "stream",
     "text": [
      "4\n",
      "13\n"
     ]
    }
   ],
   "source": [
    "import math\n",
    "print(int(math.log2(13)+1))\n",
    "print(10 ^ 7)"
   ]
  }
 ],
 "metadata": {
  "kernelspec": {
   "display_name": "Python 3",
   "language": "python",
   "name": "python3"
  },
  "language_info": {
   "codemirror_mode": {
    "name": "ipython",
    "version": 3
   },
   "file_extension": ".py",
   "mimetype": "text/x-python",
   "name": "python",
   "nbconvert_exporter": "python",
   "pygments_lexer": "ipython3",
   "version": "3.8.5"
  }
 },
 "nbformat": 4,
 "nbformat_minor": 5
}
