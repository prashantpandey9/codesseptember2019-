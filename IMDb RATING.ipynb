{
 "cells": [
  {
   "cell_type": "code",
   "execution_count": 7,
   "metadata": {},
   "outputs": [],
   "source": [
    "import json\n",
    "from bs4 import BeautifulSoup\n",
    "import requests\n",
    "\n",
    "def crawl():\n",
    "    url=\"https://www.imdb.com/chart/top/?sort=rk,asc&mode=simple&page=1\" #URL for movies\n",
    "    e=requests.get(url)\n",
    "    q=BeautifulSoup(e.text,'html')\n",
    "    p1=q.find_all(\"td\",class_=\"titleColumn\")\n",
    "    p2=q.find_all(\"span\",class_=\"secondaryInfo\")\n",
    "    p3 =q.find_all('td',class_=\"ratingColumn imdbRating\")\n",
    "    movie=[j.text  for n in p1 for j in n.find_all('a')]\n",
    "    year=[v.text.strip() for v in p2]\n",
    "    rating=[i.text.strip() for i in p3]\n",
    "    serial=1\n",
    "    dic={}\n",
    "    for j in range(len(movie)):\n",
    "        dic[serial]={\"Movie_name\":movie[j],\"Release_year\":year[0],\"IMDb_Rating\":rating[0]}\n",
    "        serial+=1\n",
    "\n",
    "    with open('IMDB.json', 'w') as json_file:\n",
    "       json.dump(dic, json_file)"
   ]
  },
  {
   "cell_type": "code",
   "execution_count": 8,
   "metadata": {},
   "outputs": [],
   "source": [
    "crawl() # function call"
   ]
  },
  {
   "cell_type": "code",
   "execution_count": null,
   "metadata": {},
   "outputs": [],
   "source": []
  }
 ],
 "metadata": {
  "kernelspec": {
   "display_name": "Python 3",
   "language": "python",
   "name": "python3"
  },
  "language_info": {
   "codemirror_mode": {
    "name": "ipython",
    "version": 3
   },
   "file_extension": ".py",
   "mimetype": "text/x-python",
   "name": "python",
   "nbconvert_exporter": "python",
   "pygments_lexer": "ipython3",
   "version": "3.6.9"
  }
 },
 "nbformat": 4,
 "nbformat_minor": 4
}
