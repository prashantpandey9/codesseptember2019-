{
 "cells": [
  {
   "cell_type": "markdown",
   "id": "reserved-studio",
   "metadata": {},
   "source": [
    "# 7 Parent Question to solve stack Problems\n"
   ]
  },
  {
   "cell_type": "markdown",
   "id": "desperate-marketplace",
   "metadata": {},
   "source": [
    "## 1 Nearest Greater to Right"
   ]
  },
  {
   "cell_type": "markdown",
   "id": "billion-envelope",
   "metadata": {},
   "source": [
    "Given an array, print the Next Greater Element (NGE) for every element. The Next greater Element for an element x is the first greater element on the right side of x in array. Elements for which no greater element exist, consider next greater element as -1.\n"
   ]
  },
  {
   "cell_type": "code",
   "execution_count": 12,
   "id": "demanding-roommate",
   "metadata": {},
   "outputs": [
    {
     "name": "stdout",
     "output_type": "stream",
     "text": [
      "1 3 0 0 5 4 8 6 2 5\n",
      "[3, 5, 5, 5, 8, 8, -1, -1, 5, -1]\n"
     ]
    }
   ],
   "source": [
    "## Foundation Code\n",
    "\n",
    "f = list(map(int,input().split()))\n",
    "ans = []\n",
    "stack = []\n",
    "for j in range(len(f)-1, -1, -1):\n",
    "    \n",
    "    if len(stack) == 0:\n",
    "        ans.append(-1)\n",
    "        q\n",
    "    elif len(stack)>0 and stack[-1]>f[j]:\n",
    "        ans.append(stack[-1])\n",
    "        \n",
    "    elif len(stack)>0 and stack[-1]<=f[j]:\n",
    "        \n",
    "        while (len(stack)>0 and stack[-1]<=f[j]):\n",
    "            stack.pop()\n",
    "        \n",
    "        if len(stack)==0:\n",
    "            ans.append(-1)\n",
    "        else:\n",
    "            ans.append(stack[-1])\n",
    "            \n",
    "    stack.append(f[j])\n",
    "    \n",
    "print(ans[::-1])"
   ]
  },
  {
   "cell_type": "markdown",
   "id": "obvious-description",
   "metadata": {},
   "source": [
    "## 2 Nearest Greater to left"
   ]
  },
  {
   "cell_type": "markdown",
   "id": "noticed-destination",
   "metadata": {},
   "source": [
    "Given an array of integers, find the closest (not considering distance, but value) greater on left of every element. If an element has no greater on the left side, print -1."
   ]
  },
  {
   "cell_type": "code",
   "execution_count": 10,
   "id": "moved-wilson",
   "metadata": {},
   "outputs": [
    {
     "name": "stdout",
     "output_type": "stream",
     "text": [
      "1 3 2 4\n",
      "[-1, -1, 3, -1]\n"
     ]
    }
   ],
   "source": [
    "f = list(map(int,input().split()))\n",
    "ans = []\n",
    "stack = []\n",
    "for j in range(len(f)): ## Variation I\n",
    "    \n",
    "    if len(stack) == 0:\n",
    "        ans.append(-1)\n",
    "        \n",
    "    elif len(stack)>0 and stack[-1]>f[j]:\n",
    "        ans.append(stack[-1])\n",
    "        \n",
    "    elif len(stack)>0 and stack[-1]<=f[j]:\n",
    "        \n",
    "        while (len(stack)>0 and stack[-1]<=f[j]):\n",
    "            stack.pop()\n",
    "        \n",
    "        if len(stack)==0:\n",
    "            ans.append(-1)\n",
    "        else:\n",
    "            ans.append(stack[-1])\n",
    "            \n",
    "    stack.append(f[j])\n",
    "    \n",
    "print(ans) ## Variation II"
   ]
  },
  {
   "cell_type": "markdown",
   "id": "boolean-store",
   "metadata": {},
   "source": [
    "## 3 NEAREST SMALLER TO LEFT"
   ]
  },
  {
   "cell_type": "markdown",
   "id": "excited-weekly",
   "metadata": {},
   "source": [
    "Given an array of integers, find the closest (not considering distance, but value) smaller on left of every element. If an element has no smaller on the left side, print -1.\n"
   ]
  },
  {
   "cell_type": "code",
   "execution_count": 14,
   "id": "revolutionary-survey",
   "metadata": {},
   "outputs": [
    {
     "name": "stdout",
     "output_type": "stream",
     "text": [
      "4 5 2 10 8\n",
      "[-1, 4, -1, 2, 2]\n"
     ]
    }
   ],
   "source": [
    "f = list(map(int,input().split()))\n",
    "ans = []\n",
    "stack = []\n",
    "for j in range(len(f)): #Variation I\n",
    "    \n",
    "    if len(stack) == 0:\n",
    "        ans.append(-1)\n",
    "        \n",
    "    elif len(stack)>0 and stack[-1]<f[j]: # Variation II\n",
    "        ans.append(stack[-1])\n",
    "        \n",
    "    elif len(stack)>0 and stack[-1]>=f[j]: # Variation III\n",
    "        \n",
    "        while (len(stack)>0 and stack[-1]>=f[j]): # Variation IV\n",
    "            stack.pop()\n",
    "        \n",
    "        if len(stack)==0:\n",
    "            ans.append(-1)\n",
    "        else:\n",
    "            ans.append(stack[-1])\n",
    "            \n",
    "    stack.append(f[j])\n",
    "    \n",
    "print(ans) #Variation V"
   ]
  },
  {
   "cell_type": "markdown",
   "id": "stupid-arbor",
   "metadata": {},
   "source": [
    "## 4 Nearest Smaller to Right"
   ]
  },
  {
   "cell_type": "markdown",
   "id": "manual-pillow",
   "metadata": {},
   "source": [
    "Given an array of integers, find the closest (not considering distance, but value) smaller on rightof every element. If an element has no smaller on the right side, print -1.\n"
   ]
  },
  {
   "cell_type": "code",
   "execution_count": 19,
   "id": "returning-surgeon",
   "metadata": {},
   "outputs": [
    {
     "name": "stdout",
     "output_type": "stream",
     "text": [
      "4 5 2 10 88\n",
      "[2, 2, -1, -1, -1]\n"
     ]
    }
   ],
   "source": [
    "f = list(map(int,input().split()))\n",
    "ans = []\n",
    "stack = []\n",
    "for j in range(len(f)-1, -1, -1): \n",
    "    \n",
    "    if len(stack) == 0:\n",
    "        ans.append(-1)\n",
    "        \n",
    "    elif len(stack)>0 and stack[-1]<f[j]: # Variation I\n",
    "        ans.append(stack[-1])\n",
    "        \n",
    "    elif len(stack)>0 and stack[-1]>=f[j]: # Variation II\n",
    "        \n",
    "        while (len(stack)>0 and stack[-1]>=f[j]): # Variation III\n",
    "            stack.pop()\n",
    "        \n",
    "        if len(stack)==0:\n",
    "            ans.append(-1)\n",
    "        else:\n",
    "            ans.append(stack[-1])\n",
    "            \n",
    "    stack.append(f[j])\n",
    "    \n",
    "print(ans[::-1])"
   ]
  },
  {
   "cell_type": "markdown",
   "id": "binding-consequence",
   "metadata": {},
   "source": [
    "## 5 Stock Span Problem"
   ]
  },
  {
   "cell_type": "markdown",
   "id": "immediate-advice",
   "metadata": {},
   "source": [
    "The stock span problem is a financial problem where we have a series of n daily price quotes for a stock and we need to calculate span of stock’s price for all n days.\n",
    "The span Si of the stock’s price on a given day i is defined as the maximum number of consecutive days just before the given day, for which the price of the stock on the current day is less than or equal to its price on the given day.\n",
    "For example, if an array of 7 days prices is given as {100, 80, 60, 70, 60, 75, 85}, then the span values for corresponding 7 days are {1, 1, 1, 2, 1, 4, 6}"
   ]
  },
  {
   "cell_type": "markdown",
   "id": "wrapped-copyright",
   "metadata": {},
   "source": [
    "## 7 Maximum Area Histogram | MAH"
   ]
  },
  {
   "cell_type": "markdown",
   "id": "national-massage",
   "metadata": {},
   "source": [
    "Find the largest rectangular area possible in a given histogram where the largest rectangle can be made of a number of contiguous bars. For simplicity, assume that all bars have same width and the width is 1 unit.\n",
    "Refer :  https://www.geeksforgeeks.org/largest-rectangle-under-histogram/"
   ]
  },
  {
   "cell_type": "code",
   "execution_count": 18,
   "id": "functioning-frontier",
   "metadata": {
    "scrolled": true
   },
   "outputs": [
    {
     "name": "stdout",
     "output_type": "stream",
     "text": [
      "2 1 5 6 2 3\n",
      "10\n"
     ]
    }
   ],
   "source": [
    "def NSL(f):\n",
    "    ans = []\n",
    "    stack = []\n",
    "    for j in range(len(f)): #Variation I\n",
    "\n",
    "        if len(stack) == 0:\n",
    "            ans.append(-1)\n",
    "\n",
    "        elif len(stack)>0 and stack[-1][0]<f[j]: # Variation II\n",
    "            ans.append(stack[-1][1])\n",
    "\n",
    "        elif len(stack)>0 and stack[-1][0]>=f[j]: # Variation III\n",
    "\n",
    "            while (len(stack)>0 and stack[-1][0]>=f[j]): # Variation IV\n",
    "                stack.pop()\n",
    "\n",
    "            if len(stack)==0:\n",
    "                ans.append(-1)\n",
    "            else:\n",
    "                ans.append(stack[-1][1])\n",
    "\n",
    "        stack.append([f[j],j])\n",
    "\n",
    "    return(ans)\n",
    "\n",
    "\n",
    "\n",
    "def NSR(f):\n",
    "    ans = []\n",
    "    stack = []\n",
    "    for j in range(len(f)-1, -1, -1): \n",
    "\n",
    "        if len(stack) == 0:\n",
    "            ans.append(len(f))\n",
    "\n",
    "        elif len(stack)>0 and stack[-1][0]<f[j]: # Variation I\n",
    "            ans.append(stack[-1][1])\n",
    "\n",
    "        elif len(stack)>0 and stack[-1][0]>=f[j]: # Variation II\n",
    "\n",
    "            while (len(stack)>0 and stack[-1][0]>=f[j]): # Variation III\n",
    "                stack.pop()\n",
    "\n",
    "            if len(stack)==0:\n",
    "                ans.append(len(f))\n",
    "            else:\n",
    "                ans.append(stack[-1][1])\n",
    "\n",
    "        stack.append([f[j],j])\n",
    "\n",
    "    return(ans[::-1])\n",
    "    \n",
    "f = list(map(int,input().split()))\n",
    "right= NSR(f)\n",
    "left = NSL(f)\n",
    "\n",
    "area = -1\n",
    "for j in range(len(f)):\n",
    "    ind = right[j]-left[j]-1\n",
    "    a = ind * f[j]\n",
    "    area = max(area, a)\n",
    "\n",
    "print(area)"
   ]
  },
  {
   "cell_type": "code",
   "execution_count": null,
   "id": "bearing-chess",
   "metadata": {},
   "outputs": [],
   "source": []
  }
 ],
 "metadata": {
  "kernelspec": {
   "display_name": "Python 3",
   "language": "python",
   "name": "python3"
  },
  "language_info": {
   "codemirror_mode": {
    "name": "ipython",
    "version": 3
   },
   "file_extension": ".py",
   "mimetype": "text/x-python",
   "name": "python",
   "nbconvert_exporter": "python",
   "pygments_lexer": "ipython3",
   "version": "3.8.5"
  }
 },
 "nbformat": 4,
 "nbformat_minor": 5
}
