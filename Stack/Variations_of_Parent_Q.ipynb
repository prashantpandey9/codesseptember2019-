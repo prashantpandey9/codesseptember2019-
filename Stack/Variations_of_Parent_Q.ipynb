{
 "cells": [
  {
   "cell_type": "markdown",
   "id": "intellectual-genome",
   "metadata": {},
   "source": [
    "## 1 Max Area Rectangle in binary matrix\n",
    "LINK = https://leetcode.com/problems/maximal-rectangle/"
   ]
  },
  {
   "cell_type": "raw",
   "id": "raised-japanese",
   "metadata": {},
   "source": [
    "Given a binary matrix, find the maximum size rectangle binary-sub-matrix with all 1’s.\n",
    "Example:\n",
    "\n",
    "Input :   0 1 1 0\n",
    "          1 1 1 1\n",
    "          1 1 1 1\n",
    "          1 1 0 0\n",
    "\n",
    "Output :  1 1 1 1\n",
    "          1 1 1 1\n",
    "          \n",
    "          \n"
   ]
  },
  {
   "cell_type": "code",
   "execution_count": 1,
   "id": "manufactured-seating",
   "metadata": {},
   "outputs": [
    {
     "name": "stdout",
     "output_type": "stream",
     "text": [
      "4\n"
     ]
    }
   ],
   "source": [
    "def MAH(f):\n",
    "    \n",
    "    def NSL(f):\n",
    "        ans = []\n",
    "        stack = []\n",
    "        for j in range(len(f)): #Variation I\n",
    "\n",
    "            if len(stack) == 0:\n",
    "                ans.append(-1)\n",
    "\n",
    "            elif len(stack)>0 and stack[-1][0]<f[j]: # Variation II\n",
    "                ans.append(stack[-1][1])\n",
    "\n",
    "            elif len(stack)>0 and stack[-1][0]>=f[j]: # Variation III\n",
    "\n",
    "                while (len(stack)>0 and stack[-1][0]>=f[j]): # Variation IV\n",
    "                    stack.pop()\n",
    "\n",
    "                if len(stack)==0:\n",
    "                    ans.append(-1)\n",
    "                else:\n",
    "                    ans.append(stack[-1][1])\n",
    "\n",
    "            stack.append([f[j],j])\n",
    "\n",
    "        return(ans)\n",
    "\n",
    "\n",
    "\n",
    "    def NSR(f):\n",
    "        ans = []\n",
    "        stack = []\n",
    "        for j in range(len(f)-1, -1, -1): \n",
    "\n",
    "            if len(stack) == 0:\n",
    "                ans.append(len(f))\n",
    "\n",
    "            elif len(stack)>0 and stack[-1][0]<f[j]: # Variation I\n",
    "                ans.append(stack[-1][1])\n",
    "\n",
    "            elif len(stack)>0 and stack[-1][0]>=f[j]: # Variation II\n",
    "\n",
    "                while (len(stack)>0 and stack[-1][0]>=f[j]): # Variation III\n",
    "                    stack.pop()\n",
    "\n",
    "                if len(stack)==0:\n",
    "                    ans.append(len(f))\n",
    "                else:\n",
    "                    ans.append(stack[-1][1])\n",
    "\n",
    "            stack.append([f[j],j])\n",
    "\n",
    "        return(ans[::-1])\n",
    "    \n",
    "    right= NSR(f)\n",
    "    left = NSL(f)\n",
    "\n",
    "    area = -1\n",
    "    for j in range(len(f)):\n",
    "        ind = right[j]-left[j]-1\n",
    "        a = ind * f[j]\n",
    "        area = max(area, a)\n",
    "\n",
    "    return(area)\n",
    "\n",
    "\n",
    "\n",
    "inp = [[\"1\",\"0\",\"1\",\"1\",\"1\",\"1\",\"0\",\"1\",\"1\"],[\"0\",\"1\",\"0\",\"1\",\"0\",\"0\",\"0\",\"0\",\"0\"],[\"0\",\"0\",\"0\",\"0\",\"1\",\"0\",\"1\",\"1\",\"0\"],[\"1\",\"1\",\"1\",\"0\",\"1\",\"0\",\"1\",\"0\",\"1\"]]\n",
    "larea = -1\n",
    "if len(inp)==0:\n",
    "    print(0)\n",
    "elif len(inp)==1:\n",
    "    heights = [int(i) for i in inp[0]]\n",
    "    print(MAH(heights))\n",
    "    \n",
    "\n",
    "heights = [int(i) for i in inp[0]]\n",
    "larea = max(larea, MAH(heights))\n",
    "for j in range(1,len(inp)):\n",
    "    for i in range(len(inp[j])):\n",
    "        if int(inp[j][i])!=0:\n",
    "            heights[i] += int(inp[j][i])\n",
    "        else:\n",
    "            heights[i] = 0\n",
    "    x = MAH(heights)\n",
    "\n",
    "    larea = max(larea, x)\n",
    "print(larea)\n",
    "        "
   ]
  }
 ],
 "metadata": {
  "kernelspec": {
   "display_name": "Python 3",
   "language": "python",
   "name": "python3"
  },
  "language_info": {
   "codemirror_mode": {
    "name": "ipython",
    "version": 3
   },
   "file_extension": ".py",
   "mimetype": "text/x-python",
   "name": "python",
   "nbconvert_exporter": "python",
   "pygments_lexer": "ipython3",
   "version": "3.8.5"
  }
 },
 "nbformat": 4,
 "nbformat_minor": 5
}
