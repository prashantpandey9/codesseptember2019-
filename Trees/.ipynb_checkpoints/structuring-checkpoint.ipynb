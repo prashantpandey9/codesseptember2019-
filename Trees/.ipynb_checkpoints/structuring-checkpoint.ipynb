{
 "cells": [
  {
   "cell_type": "markdown",
   "id": "mighty-opportunity",
   "metadata": {},
   "source": [
    "## converting a preorder and inorder travesed tree into binary tree\n"
   ]
  },
  {
   "cell_type": "code",
   "execution_count": 17,
   "id": "taken-chair",
   "metadata": {},
   "outputs": [
    {
     "name": "stdout",
     "output_type": "stream",
     "text": [
      "Root 3\n",
      "Root 9\n",
      "left 9\n",
      "Root 20\n",
      "Root 15\n",
      "left 15\n",
      "Root 7\n",
      "Right 7\n",
      "Right 20\n"
     ]
    },
    {
     "data": {
      "text/plain": [
       "<__main__.TreeNode at 0x7f47bcbb6760>"
      ]
     },
     "execution_count": 17,
     "metadata": {},
     "output_type": "execute_result"
    }
   ],
   "source": [
    "# Definition for a binary tree node.\n",
    "class TreeNode:\n",
    "    def __init__(self, val=0, left=None, right=None):\n",
    "        self.val = val\n",
    "        self.left = left\n",
    "        self.right = right\n",
    "class Solution:\n",
    "    def buildTree(self, preorder, inorder):\n",
    "        def helper(bound=None):\n",
    "            \n",
    "            if not inorder or inorder[0] == bound: return None\n",
    "            \n",
    "            root = TreeNode(preorder.pop(0))\n",
    "            root.left = helper(root.val)\n",
    "            inorder.pop(0)\n",
    "            root.right = helper(bound)\n",
    "            \n",
    "            return root\n",
    "            \n",
    "        return(helper())\n",
    "        \n",
    "        \n",
    "w = Solution()\n",
    "w.buildTree([3,9,20,15,7],[9,3,15,20,7])\n"
   ]
  },
  {
   "cell_type": "code",
   "execution_count": 35,
   "id": "complimentary-budget",
   "metadata": {},
   "outputs": [
    {
     "data": {
      "text/plain": [
       "[7, 20, 15, 3, 9]"
      ]
     },
     "execution_count": 35,
     "metadata": {},
     "output_type": "execute_result"
    }
   ],
   "source": []
  },
  {
   "cell_type": "code",
   "execution_count": 22,
   "id": "unexpected-walnut",
   "metadata": {},
   "outputs": [
    {
     "data": {
      "text/plain": [
       "[9]"
      ]
     },
     "execution_count": 22,
     "metadata": {},
     "output_type": "execute_result"
    }
   ],
   "source": [
    "[3,9,20,15,7][1:2]"
   ]
  },
  {
   "cell_type": "code",
   "execution_count": 26,
   "id": "scientific-version",
   "metadata": {},
   "outputs": [
    {
     "data": {
      "text/plain": [
       "[3, 9, 20, 15]"
      ]
     },
     "execution_count": 26,
     "metadata": {},
     "output_type": "execute_result"
    }
   ],
   "source": [
    "[3,9,20,15,7][]"
   ]
  }
 ],
 "metadata": {
  "kernelspec": {
   "display_name": "Python 3",
   "language": "python",
   "name": "python3"
  },
  "language_info": {
   "codemirror_mode": {
    "name": "ipython",
    "version": 3
   },
   "file_extension": ".py",
   "mimetype": "text/x-python",
   "name": "python",
   "nbconvert_exporter": "python",
   "pygments_lexer": "ipython3",
   "version": "3.8.5"
  }
 },
 "nbformat": 4,
 "nbformat_minor": 5
}
