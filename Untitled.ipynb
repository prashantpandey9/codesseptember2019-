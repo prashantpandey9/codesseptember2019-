{
 "cells": [
  {
   "cell_type": "code",
   "execution_count": 9,
   "id": "arabic-example",
   "metadata": {},
   "outputs": [
    {
     "name": "stdout",
     "output_type": "stream",
     "text": [
      "coronavirua\n",
      "3\n",
      "coro\n",
      "POSITIVE\n",
      "na\n",
      "POSITIVE\n",
      "via\n",
      "POSITIVE\n"
     ]
    }
   ],
   "source": [
    "def isSS(s1, s2, m, n):\n",
    "    if m == 0:\n",
    "        return True\n",
    "    if n == 0:\n",
    "        return False\n",
    "\n",
    "    if s1[m-1] == s2[n-1]:\n",
    "        return isSS(s1, s2, m-1, n-1)\n",
    "\n",
    "    return isSS(s1, s2, m, n-1)\n",
    "\n",
    "virus = input()\n",
    "N = int(input())\n",
    "compo = []\n",
    "while True:\n",
    "    if N<=0:\n",
    "        break\n",
    "    try:\n",
    "        s = input()\n",
    "        compo.append(s)\n",
    "        if isSS(s,virus, len(s), len(virus)):\n",
    "            print(\"POSITIVE\")\n",
    "        else:\n",
    "            print(\"NEGATIVE\")\n",
    "    except EOFError:\n",
    "        break\n",
    "    N-=1\n",
    "\n"
   ]
  },
  {
   "cell_type": "code",
   "execution_count": 11,
   "id": "duplicate-toilet",
   "metadata": {},
   "outputs": [
    {
     "data": {
      "text/plain": [
       "0"
      ]
     },
     "execution_count": 11,
     "metadata": {},
     "output_type": "execute_result"
    }
   ],
   "source": [
    "f = \"cofjon\"\n",
    "f.count('r')"
   ]
  }
 ],
 "metadata": {
  "kernelspec": {
   "display_name": "Python 3",
   "language": "python",
   "name": "python3"
  },
  "language_info": {
   "codemirror_mode": {
    "name": "ipython",
    "version": 3
   },
   "file_extension": ".py",
   "mimetype": "text/x-python",
   "name": "python",
   "nbconvert_exporter": "python",
   "pygments_lexer": "ipython3",
   "version": "3.8.5"
  }
 },
 "nbformat": 4,
 "nbformat_minor": 5
}
