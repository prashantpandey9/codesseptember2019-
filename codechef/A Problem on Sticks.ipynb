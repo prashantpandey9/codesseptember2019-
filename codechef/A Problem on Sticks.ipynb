{
 "cells": [
  {
   "cell_type": "code",
   "execution_count": 6,
   "metadata": {},
   "outputs": [
    {
     "name": "stdout",
     "output_type": "stream",
     "text": [
      "Postorder traversal \n",
      "E\n",
      "D\n",
      "B\n",
      "C\n",
      "A\n",
      "F\n",
      "G\n"
     ]
    }
   ],
   "source": [
    "# Python program to print postorder \n",
    "# traversal from preorder and \n",
    "# inorder traversals \n",
    "def printpostorder(inorder, preorder, n): \n",
    "\tif preorder[0] in inorder: \n",
    "\t\troot = inorder.index(preorder[0]) \n",
    "\t\t\n",
    "\tif root != 0: # left subtree exists \n",
    "\t\tprintpostorder(inorder[:root], \n",
    "\t\t\t\t\tpreorder[1:root + 1], \n",
    "\t\t\t\t\tlen(inorder[:root])) \n",
    "\t\n",
    "\tif root != n - 1: # right subtree exists \n",
    "\t\tprintpostorder(inorder[root + 1:], \n",
    "\t\t\t\t\tpreorder[root + 1:], \n",
    "\t\t\t\t\tlen(inorder[root + 1:])) \n",
    "\t\n",
    "\tprint (preorder[0]), \n",
    "\t\t\n",
    "# Driver Code \n",
    "inorder = ['E','B','D','G','C','F','A'] \n",
    "preorder = ['G','B','E','D','F','C','A'] \n",
    "n = len(inorder) \n",
    "print (\"Postorder traversal \")\n",
    "printpostorder(inorder, preorder, n) \n",
    "\n",
    "# This code is contributed by SaiNath \n"
   ]
  },
  {
   "cell_type": "code",
   "execution_count": 11,
   "metadata": {},
   "outputs": [
    {
     "name": "stdout",
     "output_type": "stream",
     "text": [
      "1\n",
      "0\n",
      "1\n",
      "0\n",
      "0\n",
      "0\n",
      "1\n",
      "\n",
      "1\n",
      "0\n",
      "1\n",
      "1\n",
      "0\n",
      "0\n",
      "1\n",
      "\n",
      "1\n",
      "1\n",
      "1\n",
      "0\n",
      "0\n",
      "0\n",
      "1\n",
      "\n",
      "1\n",
      "1\n",
      "1\n",
      "1\n",
      "0\n",
      "0\n",
      "1\n",
      "\n"
     ]
    }
   ],
   "source": [
    "sarray=list('1?1?001')\n",
    "vidx=0\n",
    "def fu(arr, vidx):\n",
    "    if (vidx == len(sarray)):\n",
    "        for j in sarray:\n",
    "            print (j)\n",
    "        print(\"\")\n",
    "        return\n",
    "        \n",
    "    if (sarray[vidx] == '?'):\n",
    "        sarray[vidx] = '0'\n",
    "        fu(sarray, vidx + 1)\n",
    "        sarray[vidx] = '1'\n",
    "        fu(sarray, vidx + 1)\n",
    "        sarray[vidx]='?'        \n",
    "    else:\n",
    "        fu(sarray, vidx+1)\n",
    "\n",
    "fu(sarray,vidx)"
   ]
  },
  {
   "cell_type": "code",
   "execution_count": 18,
   "metadata": {},
   "outputs": [
    {
     "name": "stdout",
     "output_type": "stream",
     "text": [
      "5\n",
      "#####\n",
      "*   *\n",
      "*   *\n",
      "*   *\n",
      "#####\n"
     ]
    }
   ],
   "source": [
    "i = int(input())\n",
    "print('#'*i)\n",
    "for j in range(i-2):\n",
    "    print('*'+' '*(i-2)+'*')\n",
    "print('#'*i)"
   ]
  }
 ],
 "metadata": {
  "kernelspec": {
   "display_name": "Python 3",
   "language": "python",
   "name": "python3"
  },
  "language_info": {
   "codemirror_mode": {
    "name": "ipython",
    "version": 3
   },
   "file_extension": ".py",
   "mimetype": "text/x-python",
   "name": "python",
   "nbconvert_exporter": "python",
   "pygments_lexer": "ipython3",
   "version": "3.8.5"
  }
 },
 "nbformat": 4,
 "nbformat_minor": 4
}
