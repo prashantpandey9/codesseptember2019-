{
 "cells": [
  {
   "cell_type": "code",
   "execution_count": 120,
   "metadata": {},
   "outputs": [
    {
     "name": "stdout",
     "output_type": "stream",
     "text": [
      "['2']\n"
     ]
    }
   ],
   "source": [
    "w=[]\n",
    "def findNdigitNums(n, sum, res=\"\"):\n",
    "\n",
    "    if n > 0 and sum >= 0:\n",
    "        d = ord('0')\n",
    "        if res == \"\":\n",
    "            d = ord('1')\n",
    "        while d <= ord('9'):\n",
    "            findNdigitNums(n - 1, sum - (d - ord('0')), res + chr(d)) \n",
    "            d = d + 1\n",
    "            if len(w)==1:\n",
    "                break\n",
    "    elif n == 0 and sum == 0:\n",
    "        w.append(res)\n",
    "    \n",
    "if __name__ == '__main__':\n",
    "\n",
    "    n = 1\n",
    "    sum = 2\n",
    "    s=findNdigitNums(n, sum)\n",
    "    print(w)"
   ]
  },
  {
   "cell_type": "code",
   "execution_count": null,
   "metadata": {},
   "outputs": [],
   "source": []
  },
  {
   "cell_type": "code",
   "execution_count": 119,
   "metadata": {},
   "outputs": [
    {
     "name": "stdout",
     "output_type": "stream",
     "text": [
      "3\n",
      "3 5\n",
      "1 1\n",
      "28 18\n",
      "1 2\n",
      "14 24\n",
      "0 2\n"
     ]
    }
   ],
   "source": [
    "import math\n",
    "for j in range(int(input())):\n",
    "    pc,pr=map(int,input().split())\n",
    "    movC=math.ceil(float(pc)/9.0)\n",
    "    movR=math.ceil(float(pr)/9.0)\n",
    "    if (movR<=movC):\n",
    "        print(1,movR)\n",
    "    else:\n",
    "        print(0,movC)"
   ]
  },
  {
   "cell_type": "code",
   "execution_count": 121,
   "metadata": {},
   "outputs": [],
   "source": [
    "import math\n"
   ]
  },
  {
   "cell_type": "code",
   "execution_count": 126,
   "metadata": {},
   "outputs": [
    {
     "data": {
      "text/plain": [
       "3"
      ]
     },
     "execution_count": 126,
     "metadata": {},
     "output_type": "execute_result"
    }
   ],
   "source": [
    "math.ceil(3)"
   ]
  },
  {
   "cell_type": "code",
   "execution_count": null,
   "metadata": {},
   "outputs": [],
   "source": []
  }
 ],
 "metadata": {
  "kernelspec": {
   "display_name": "Python 3",
   "language": "python",
   "name": "python3"
  },
  "language_info": {
   "codemirror_mode": {
    "name": "ipython",
    "version": 3
   },
   "file_extension": ".py",
   "mimetype": "text/x-python",
   "name": "python",
   "nbconvert_exporter": "python",
   "pygments_lexer": "ipython3",
   "version": "3.8.2"
  }
 },
 "nbformat": 4,
 "nbformat_minor": 4
}
