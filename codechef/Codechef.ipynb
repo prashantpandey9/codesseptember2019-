{
 "cells": [
  {
   "cell_type": "markdown",
   "metadata": {},
   "source": [
    "## Ada and Dishes NOV20B"
   ]
  },
  {
   "cell_type": "code",
   "execution_count": 71,
   "metadata": {
    "scrolled": false
   },
   "outputs": [
    {
     "name": "stdout",
     "output_type": "stream",
     "text": [
      "1\n",
      "4\n",
      "5 3 3 3\n",
      "8\n"
     ]
    }
   ],
   "source": [
    "import math\n",
    "for j in range(int(input())):\n",
    "    k = int(input())\n",
    "    f = []\n",
    "    price = 0\n",
    "    c = list(map(int,input().split()))\n",
    "    if len(set(c))==1:\n",
    "        print(c[0]*(math.ceil(k/2)))\n",
    "    else:\n",
    "        c.sort(reverse=True)\n",
    "        d = 0\n",
    "        while d<k:\n",
    "            if d==0:\n",
    "                f.append(c[d])\n",
    "                f.append(c[d+1])\n",
    "                minimum = min(f)\n",
    "                price+=minimum\n",
    "                for i in range(len(f)):\n",
    "                    f[i] -= minimum\n",
    "                for j in f:\n",
    "                    if j == 0:\n",
    "                        f.remove(j)\n",
    "                d+=2\n",
    "            else:\n",
    "                f.append(c[d])\n",
    "                minimum = min(f)\n",
    "                price+=minimum\n",
    "                for i in range(len(f)):\n",
    "                    f[i] -= minimum\n",
    "                \n",
    "                for j in f:\n",
    "                    if j == 0:\n",
    "                        f.remove(j)\n",
    "                d+=1\n",
    "        print(price+sum(f))\n",
    "       "
   ]
  },
  {
   "cell_type": "markdown",
   "metadata": {},
   "source": [
    "## Restore Sequence"
   ]
  },
  {
   "cell_type": "code",
   "execution_count": 85,
   "metadata": {},
   "outputs": [
    {
     "name": "stdout",
     "output_type": "stream",
     "text": [
      "1\n",
      "5\n",
      "5 2 3 4 5\n",
      "11 3 5 7 11 \n"
     ]
    }
   ],
   "source": [
    "def SieveOfEratosthenes(n): \n",
    "    prime = [True for i in range(n + 1)] \n",
    "    p = 2\n",
    "    while (p * p <= n): \n",
    "        if (prime[p] == True): \n",
    "            for i in range(p * 2, n + 1, p): \n",
    "                prime[i] = False\n",
    "        p += 1\n",
    "    prime[0]= False\n",
    "    prime[1]= False\n",
    "    pr=[]\n",
    "    for p in range(n + 1): \n",
    "        if prime[p]: \n",
    "            pr.append(p)\n",
    "    return(pr)\n",
    "    \n",
    "prime = SieveOfEratosthenes(4000000)\n",
    "\n",
    "for j in range(int(input())):\n",
    "    n = int(input())\n",
    "    arr = list(map(int,input().split()))\n",
    "    c = prime[:n]\n",
    "    q = ''\n",
    "    for j in range(n):\n",
    "        q += str(c[arr[j]-1])+' '\n",
    "    print(q)\n",
    "    \n"
   ]
  },
  {
   "cell_type": "markdown",
   "metadata": {},
   "source": [
    "## CODEFORCES #683(div3) A"
   ]
  },
  {
   "cell_type": "code",
   "execution_count": 29,
   "metadata": {},
   "outputs": [
    {
     "name": "stdout",
     "output_type": "stream",
     "text": [
      "2\n",
      "2\n",
      "2 1 \n",
      "5\n",
      "5 1 2 3 4 \n"
     ]
    }
   ],
   "source": [
    "for j in range(int(input())):\n",
    "    f = int(input())\n",
    "    c = ''\n",
    "    c+=str(f)+' '\n",
    "    for k in range(1,f):\n",
    "        c+=str(k)+' '\n",
    "    print(c)"
   ]
  },
  {
   "cell_type": "markdown",
   "metadata": {},
   "source": [
    "## CODEFORCES A"
   ]
  },
  {
   "cell_type": "code",
   "execution_count": 2,
   "metadata": {},
   "outputs": [
    {
     "name": "stdout",
     "output_type": "stream",
     "text": [
      "5\n",
      "1\n",
      "1\n",
      "37\n",
      "2\n",
      "998244353\n",
      "9\n",
      "1000000007\n",
      "10\n",
      "12345678901337426966631415\n",
      "26\n"
     ]
    }
   ],
   "source": [
    "for j in range(int(input())):\n",
    "    f = int(input())\n",
    "    d = str(f)\n",
    "    print(len(d))\n",
    "    \n",
    "    "
   ]
  },
  {
   "cell_type": "markdown",
   "metadata": {},
   "source": [
    "## VACCINE1 (DEC20)"
   ]
  },
  {
   "cell_type": "markdown",
   "metadata": {},
   "source": [
    "## Corner test cases\n",
    "- test case 1 \n",
    "<br />\n",
    "1 16 6 20 15 <br />\n",
    "1\n",
    "<br />\n",
    "- test case 2 \n",
    "<br />\n",
    "10 16 1 10 5<br />\n",
    "1\n",
    "<br />\n",
    "- test case 3 \n",
    "<br />\n",
    "10 4 20 5 40<br />\n",
    "19\n",
    "<br />\n",
    "- test case 4 \n",
    "<br />\n",
    "5 2 50 2 1<br />\n",
    "5"
   ]
  },
  {
   "cell_type": "code",
   "execution_count": 59,
   "metadata": {
    "scrolled": true
   },
   "outputs": [
    {
     "name": "stdout",
     "output_type": "stream",
     "text": [
      "5 2 50 2 1\n",
      "5\n"
     ]
    }
   ],
   "source": [
    "import math\n",
    "d1,v1,d2,v2,p = map(int,input().split())\n",
    "if d1 == d2:\n",
    "    d = math.ceil(p/(v1+v2))\n",
    "    print(d+(d1-1))\n",
    "elif (d1 == 1 and v1>=p) or (d2 == 1 and v2>=p):\n",
    "    print(1)\n",
    "    \n",
    "else:\n",
    "    late = max(d1, d2)\n",
    "    first = min(d1, d2)\n",
    "    if first == d1:\n",
    "        produciton = v1\n",
    "    else:\n",
    "        produciton = v2\n",
    "    production_by_first = (late-first)*produciton\n",
    "    if production_by_first>=p and math.ceil(p/produciton)<(late-first):\n",
    "        print(math.ceil(p/produciton)+first-1)\n",
    "    else:\n",
    "        late_pro = math.ceil((p-production_by_first)/(v1+v2))\n",
    "        print(late_pro+(late-first)+first-1)"
   ]
  },
  {
   "cell_type": "markdown",
   "metadata": {},
   "source": [
    "## EVENPSUM (DEC20)"
   ]
  },
  {
   "cell_type": "code",
   "execution_count": 141,
   "metadata": {},
   "outputs": [
    {
     "name": "stdout",
     "output_type": "stream",
     "text": [
      "4\n",
      "1 1\n",
      "1\n",
      "2 3\n",
      "3\n",
      "4 6\n",
      "12\n",
      "8 9\n",
      "36\n"
     ]
    }
   ],
   "source": [
    "for j in range(int(input())):\n",
    "    a, b = map(int,input().split())\n",
    "    total = 0\n",
    "    minimum = min(a,b)\n",
    "    maximum = max(a,b)\n",
    "    half = minimum//2\n",
    "    if minimum%2 == 0:\n",
    "        total = minimum + ((half-1)*half) + ((half-1)*half)\n",
    "        remaining = maximum-minimum\n",
    "        if maximum%2 == 0:\n",
    "            half2 = remaining//2\n",
    "            total+=(half2)*half + (half)*(half2)\n",
    "            print(total)\n",
    "        else:\n",
    "            half2 = remaining//2\n",
    "            total+=(half2+1)*half + (half)*(half2)\n",
    "            print(total)\n",
    "        \n",
    "    else:\n",
    "        total = minimum + (half+1)*half + (half-1)*(half)\n",
    "        remaining = maximum-minimum\n",
    "        if maximum%2 == 0:\n",
    "            half2 = remaining//2\n",
    "            total+=(half2)*(half+1) + (half)*(half2+1)\n",
    "            print(total)\n",
    "        else:\n",
    "            half2 = remaining//2\n",
    "            total+=(half2)*(half+1) + (half)*(half2)\n",
    "            print(total)\n",
    "    \n",
    "        \n",
    "    \n",
    "    "
   ]
  },
  {
   "cell_type": "markdown",
   "metadata": {},
   "source": [
    "## VACCINE2 (DEC20)"
   ]
  },
  {
   "cell_type": "code",
   "execution_count": 166,
   "metadata": {},
   "outputs": [
    {
     "name": "stdout",
     "output_type": "stream",
     "text": [
      "2\n",
      "10 1\n",
      "10 20 30 40 50 60 90 80 100 1\n",
      "10\n",
      "5 2\n",
      "9 80 27 72 79\n",
      "3\n"
     ]
    }
   ],
   "source": [
    "import math\n",
    "for j in range(int(input())):\n",
    "    n, p = map(int,input().split())\n",
    "    ages = list(map(int,input().split()))\n",
    "    risk_patients = 0\n",
    "    for j in ages:\n",
    "        if j>=80 or j<=9:\n",
    "            risk_patients+=1\n",
    "    normal_patients = n-risk_patients\n",
    "    \n",
    "    days_need_for_risk_patients = math.ceil(risk_patients/p)\n",
    "#     print(days_need_for_risk_patients)\n",
    "    \n",
    "    days_need_for_normal_patients = math.ceil(normal_patients/p)\n",
    "#     print(days_need_for_normal_patients)\n",
    "    \n",
    "    total_days_needed = days_need_for_risk_patients + days_need_for_normal_patients\n",
    "    \n",
    "    print(total_days_needed)\n",
    "     \n",
    "        \n",
    "    "
   ]
  },
  {
   "cell_type": "markdown",
   "metadata": {},
   "source": [
    "## POSPREFS (DEC20)"
   ]
  },
  {
   "cell_type": "code",
   "execution_count": 101,
   "metadata": {},
   "outputs": [
    {
     "name": "stdout",
     "output_type": "stream",
     "text": [
      "10\n",
      "10 1\n",
      "-1 2 -3 -4 -5 -6 -7 -8 -9 -10 \n",
      "10 2\n",
      "-1 2 -3 4 -5 -6 -7 -8 -9 -10 \n",
      "10 3\n",
      "-1 2 -3 4 -5 6 -7 -8 -9 -10 \n",
      "10 4\n",
      "-1 2 -3 4 -5 6 -7 8 -9 -10 \n",
      "10 5\n",
      "-1 2 -3 4 -5 6 -7 8 -9 10 \n",
      "10 6\n",
      "-1 2 -3 4 -5 6 -7 8 9 10 \n",
      "10 7\n",
      "-1 2 -3 4 -5 6 7 8 9 10 \n",
      "10 8\n",
      "-1 2 -3 4 5 6 7 8 9 10 \n",
      "10 9\n",
      "-1 2 3 4 5 6 7 8 9 10 \n",
      "10 10\n",
      "1 2 3 4 5 6 7 8 9 10 \n"
     ]
    }
   ],
   "source": [
    "for j in range(int(input())):\n",
    "    n, k = map(int,input().split())\n",
    "    t = []\n",
    "    if n == k:\n",
    "        t += [h for h in range(1, n+1)]\n",
    "        for j in t:\n",
    "            print(j, end=' ')\n",
    "        print()\n",
    "    else:\n",
    "        a = n//2\n",
    "        for j in range(1, n+1):\n",
    "            if j&1:\n",
    "                t.append(-j)\n",
    "            else:\n",
    "                t.append(j)\n",
    "        if a<k:\n",
    "            b=k-a\n",
    "            for j in range(n-1, -1, -1):\n",
    "                if not b:\n",
    "                    break\n",
    "                    \n",
    "                if t[j]<0:\n",
    "                    t[j]=-(t[j])\n",
    "                    b-=1\n",
    "            \n",
    "            \n",
    "        if a>k:\n",
    "            b=a-k\n",
    "            for j in range(n-1, -1, -1):\n",
    "                if not b:\n",
    "                    break\n",
    "                if t[j]>0:\n",
    "                    t[j]=-(t[j])\n",
    "                    b-=1\n",
    "        \n",
    "        for j in t:\n",
    "            print(j, end=' ')\n",
    "        print()\n",
    "                    \n",
    "                \n",
    "        \n",
    "                \n",
    "                \n",
    "            "
   ]
  }
 ],
 "metadata": {
  "kernelspec": {
   "display_name": "Python 3",
   "language": "python",
   "name": "python3"
  },
  "language_info": {
   "codemirror_mode": {
    "name": "ipython",
    "version": 3
   },
   "file_extension": ".py",
   "mimetype": "text/x-python",
   "name": "python",
   "nbconvert_exporter": "python",
   "pygments_lexer": "ipython3",
   "version": "3.8.5"
  }
 },
 "nbformat": 4,
 "nbformat_minor": 4
}
