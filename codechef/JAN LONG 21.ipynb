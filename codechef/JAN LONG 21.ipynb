{
 "cells": [
  {
   "cell_type": "markdown",
   "metadata": {},
   "source": [
    "### JANLONG21"
   ]
  },
  {
   "cell_type": "markdown",
   "metadata": {},
   "source": [
    "## Chef and Division 3"
   ]
  },
  {
   "cell_type": "code",
   "execution_count": 1,
   "metadata": {},
   "outputs": [
    {
     "name": "stdout",
     "output_type": "stream",
     "text": [
      "5\n",
      "1 5 31\n",
      "4\n",
      "0\n",
      "1 10 3\n",
      "23\n",
      "2\n",
      "2 5 7\n",
      "20 36\n",
      "7\n",
      "2 5 10\n",
      "19 2\n",
      "4\n",
      "3 3 300\n",
      "1 1 1\n",
      "1\n"
     ]
    }
   ],
   "source": [
    "for h in range(int(input())):\n",
    "    n,k,d = map(int,input().split())\n",
    "    arr = list(map(int,input().split()))\n",
    "    total_ques = sum(arr)\n",
    "    total_day_we_can_org = total_ques//k\n",
    "    if d<=total_day_we_can_org:\n",
    "        print(d)\n",
    "    else:\n",
    "        print(total_day_we_can_org)"
   ]
  },
  {
   "cell_type": "markdown",
   "metadata": {},
   "source": [
    "### Fair Election"
   ]
  },
  {
   "cell_type": "code",
   "execution_count": 44,
   "metadata": {
    "scrolled": false
   },
   "outputs": [
    {
     "name": "stdout",
     "output_type": "stream",
     "text": [
      "1\n",
      "4 3\n",
      "1 3 2 4\n",
      "6 7 8\n",
      "1 8 10 21\n",
      "1\n"
     ]
    }
   ],
   "source": [
    "for j in range(int(input())):\n",
    "    n,m = map(int,input().split())\n",
    "    Narr = list(map(int,input().split()))\n",
    "    Marr = list(map(int,input().split()))\n",
    "    Narr.sort()\n",
    "    Marr.sort()\n",
    "    count = 0\n",
    "    Nsum = sum(Narr)\n",
    "    Msum = sum(Marr)\n",
    "    i = m-1\n",
    "    for j in range(n):\n",
    "        \n",
    "        Nsum -= Narr[j]\n",
    "        Msum -= Marr[i]\n",
    "        Nsum += Marr[i]\n",
    "        Msum += Narr[j]\n",
    "        count += 1\n",
    "        i-=1\n",
    "        \n",
    "        if Nsum>Msum or i<0:\n",
    "            break\n",
    "        \n",
    "    if Nsum>Msum:\n",
    "        print(count)\n",
    "    else:\n",
    "        print(-1)\n",
    "        \n",
    "        \n",
    "   \n",
    "        "
   ]
  },
  {
   "cell_type": "code",
   "execution_count": 49,
   "metadata": {},
   "outputs": [
    {
     "name": "stdout",
     "output_type": "stream",
     "text": [
      "2\n",
      "2 3\n",
      "4 4\n",
      "5 5 5\n",
      "-1\n",
      "2 1\n",
      "5 5\n",
      "10\n",
      "1\n"
     ]
    }
   ],
   "source": [
    "for j in range(int(input())):\n",
    "    n,m = map(int,input().split())\n",
    "    Narr = list(map(int,input().split()))\n",
    "    Marr = list(map(int,input().split()))\n",
    "    Narr.sort()\n",
    "    Marr.sort()\n",
    "    count = 0\n",
    "    Nsum = sum(Narr)\n",
    "    Msum = sum(Marr)\n",
    "    i = 0\n",
    "    j = m-1\n",
    "    if(Nsum>Msum):\n",
    "        print(0)\n",
    "        continue\n",
    "\n",
    "    while True :\n",
    "        Nsum = (Nsum-Narr[i]) + Marr[j]\n",
    "        Msum = (Msum - Marr[j]) + Narr[i]\n",
    "        i+=1\n",
    "        j-=1\n",
    "        count+=1\n",
    "        if Nsum>Msum or i>=n or j<1:\n",
    "            break\n",
    "    \n",
    "    if Nsum>Msum :\n",
    "        print(count)\n",
    "    else:\n",
    "        print(-1)"
   ]
  },
  {
   "cell_type": "markdown",
   "metadata": {},
   "source": [
    "### Encoded String "
   ]
  },
  {
   "cell_type": "code",
   "execution_count": 11,
   "metadata": {},
   "outputs": [
    {
     "name": "stdout",
     "output_type": "stream",
     "text": [
      "1\n",
      "12\n",
      "101000001110\n",
      "kao\n"
     ]
    }
   ],
   "source": [
    "for _ in range(int(input())):\n",
    "    n = int(input())\n",
    "    s = input()\n",
    "    d = ''\n",
    "    for j in range(0,len(s),4):\n",
    "        x = s[j:j+4]\n",
    "        d+= chr(int(str(x),2)+97)\n",
    "        \n",
    "    print(d)"
   ]
  }
 ],
 "metadata": {
  "kernelspec": {
   "display_name": "Python 3",
   "language": "python",
   "name": "python3"
  },
  "language_info": {
   "codemirror_mode": {
    "name": "ipython",
    "version": 3
   },
   "file_extension": ".py",
   "mimetype": "text/x-python",
   "name": "python",
   "nbconvert_exporter": "python",
   "pygments_lexer": "ipython3",
   "version": "3.8.5"
  }
 },
 "nbformat": 4,
 "nbformat_minor": 4
}
