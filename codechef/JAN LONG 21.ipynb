{
 "cells": [
  {
   "cell_type": "markdown",
   "metadata": {},
   "source": [
    "### JANLONG21"
   ]
  },
  {
   "cell_type": "markdown",
   "metadata": {},
   "source": [
    "## Chef and Division 3"
   ]
  },
  {
   "cell_type": "code",
   "execution_count": 1,
   "metadata": {},
   "outputs": [
    {
     "name": "stdout",
     "output_type": "stream",
     "text": [
      "5\n",
      "1 5 31\n",
      "4\n",
      "0\n",
      "1 10 3\n",
      "23\n",
      "2\n",
      "2 5 7\n",
      "20 36\n",
      "7\n",
      "2 5 10\n",
      "19 2\n",
      "4\n",
      "3 3 300\n",
      "1 1 1\n",
      "1\n"
     ]
    }
   ],
   "source": [
    "for h in range(int(input())):\n",
    "    n,k,d = map(int,input().split())\n",
    "    arr = list(map(int,input().split()))\n",
    "    total_ques = sum(arr)\n",
    "    total_day_we_can_org = total_ques//k\n",
    "    if d<=total_day_we_can_org:\n",
    "        print(d)\n",
    "    else:\n",
    "        print(total_day_we_can_org)"
   ]
  },
  {
   "cell_type": "markdown",
   "metadata": {},
   "source": [
    "### Fair Election"
   ]
  },
  {
   "cell_type": "code",
   "execution_count": 21,
   "metadata": {},
   "outputs": [
    {
     "name": "stdout",
     "output_type": "stream",
     "text": [
      "1\n",
      "2 2\n",
      "1 1\n",
      "5 5\n",
      "[1, 1]\n",
      "1\n"
     ]
    }
   ],
   "source": [
    "for j in range(int(input())):\n",
    "    n,m = map(int,input().split())\n",
    "    Narr = list(map(int,input().split()))\n",
    "    Marr = list(map(int,input().split()))\n",
    "    \n",
    "    Nsum = sum(Narr)\n",
    "    Msum = sum(Marr)\n",
    "    swap = 0\n",
    "    while True:\n",
    "        if Nsum<Msum:\n",
    "            c = Msum-Nsum\n",
    "            if c in Marr:\n",
    "                swap+=1\n",
    "                break\n",
    "            else:\n",
    "                print(Narr)\n",
    "                min1 = min(Narr)\n",
    "                max1 = max(Marr)\n",
    "                Nsum = (Nsum-min1)+max1\n",
    "                Msum = (Msum-max1)+min1\n",
    "                Narr.remove(min1)\n",
    "                Marr.remove(max1)\n",
    "                swap+=1\n",
    "        else:\n",
    "            break\n",
    "    if swap==0:\n",
    "        print(1)\n",
    "    else:\n",
    "        print(swap)\n",
    "        "
   ]
  }
 ],
 "metadata": {
  "kernelspec": {
   "display_name": "Python 3",
   "language": "python",
   "name": "python3"
  },
  "language_info": {
   "codemirror_mode": {
    "name": "ipython",
    "version": 3
   },
   "file_extension": ".py",
   "mimetype": "text/x-python",
   "name": "python",
   "nbconvert_exporter": "python",
   "pygments_lexer": "ipython3",
   "version": "3.8.5"
  }
 },
 "nbformat": 4,
 "nbformat_minor": 4
}
