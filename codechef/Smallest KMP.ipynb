{
 "cells": [
  {
   "cell_type": "code",
   "execution_count": 167,
   "metadata": {},
   "outputs": [
    {
     "name": "stdout",
     "output_type": "stream",
     "text": [
      "2\n",
      "akramkeeanany\n",
      "aka\n",
      "aaakaeekmnnry\n",
      "zzety\n",
      "ze\n",
      "tyzez\n"
     ]
    }
   ],
   "source": [
    "for j in range(int(input())):\n",
    "    s=input()\n",
    "    p=input()\n",
    "    lens={}\n",
    "    for h in s:\n",
    "        if h in lens:\n",
    "            lens[h]+=1\n",
    "        else:\n",
    "            lens[h]=1\n",
    "    for j in p:\n",
    "        if j in lens:\n",
    "            lens[j]-=1\n",
    "    ee=list(lens.keys())\n",
    "    ee=sorted(ee)\n",
    "    k=''\n",
    "    kl=''\n",
    "    kr=''\n",
    "    for j in ee:\n",
    "        if ord(j)<=ord(p[0]):\n",
    "            kl+=j*lens[j]\n",
    "        if ord(j)>ord(p[0]):\n",
    "            kr+=j*lens[j]\n",
    "    \n",
    "    dd=kl+p+kr\n",
    "    ll=''\n",
    "    lr=''\n",
    "    for j in ee:\n",
    "        if ord(j)<ord(p[0]):\n",
    "            ll+=j*lens[j]\n",
    "        if ord(j)>=ord(p[0]):\n",
    "            lr+=j*lens[j]\n",
    "    gg=ll+p+lr\n",
    "\n",
    "    final=''\n",
    "    for jj in range(len(dd)):\n",
    "        if dd==gg:\n",
    "            print(dd)\n",
    "            break\n",
    "        if ord(dd[jj])==ord(gg[jj]):\n",
    "            pass\n",
    "        elif ord(dd[jj])<ord(gg[jj]):\n",
    "            print(dd)\n",
    "            break\n",
    "        else:\n",
    "            print(gg)\n",
    "            break\n",
    "\n",
    "#     print(final)"
   ]
  }
 ],
 "metadata": {
  "kernelspec": {
   "display_name": "Python 3",
   "language": "python",
   "name": "python3"
  },
  "language_info": {
   "codemirror_mode": {
    "name": "ipython",
    "version": 3
   },
   "file_extension": ".py",
   "mimetype": "text/x-python",
   "name": "python",
   "nbconvert_exporter": "python",
   "pygments_lexer": "ipython3",
   "version": "3.8.2"
  }
 },
 "nbformat": 4,
 "nbformat_minor": 4
}
