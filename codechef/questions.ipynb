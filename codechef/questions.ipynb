{
 "cells": [
  {
   "cell_type": "code",
   "execution_count": 1,
   "metadata": {},
   "outputs": [],
   "source": [
    "from tkinter import *\n",
    "from tkinter.colorchooser import askcolor\n",
    "\n",
    "\n",
    "class Paint(object):\n",
    "\n",
    "    DEFAULT_PEN_SIZE = 5.0\n",
    "    DEFAULT_COLOR = 'black'\n",
    "\n",
    "    def __init__(self):\n",
    "        self.root = Tk()\n",
    "\n",
    "        self.pen_button = Button(self.root, text='pen', command=self.use_pen)\n",
    "        self.pen_button.grid(row=0, column=0)\n",
    "\n",
    "        self.brush_button = Button(self.root, text='brush', command=self.use_brush)\n",
    "        self.brush_button.grid(row=0, column=1)\n",
    "\n",
    "        self.color_button = Button(self.root, text='color', command=self.choose_color)\n",
    "        self.color_button.grid(row=0, column=2)\n",
    "\n",
    "        self.eraser_button = Button(self.root, text='eraser', command=self.use_eraser)\n",
    "        self.eraser_button.grid(row=0, column=3)\n",
    "\n",
    "        self.choose_size_button = Scale(self.root, from_=1, to=10, orient=HORIZONTAL)\n",
    "        self.choose_size_button.grid(row=0, column=4)\n",
    "\n",
    "        self.c = Canvas(self.root, bg='white', width=600, height=600)\n",
    "        self.c.grid(row=1, columnspan=5)\n",
    "\n",
    "        self.setup()\n",
    "        self.root.mainloop()\n",
    "\n",
    "    def setup(self):\n",
    "        self.old_x = None\n",
    "        self.old_y = None\n",
    "        self.line_width = self.choose_size_button.get()\n",
    "        self.color = self.DEFAULT_COLOR\n",
    "        self.eraser_on = False\n",
    "        self.active_button = self.pen_button\n",
    "        self.c.bind('<B1-Motion>', self.paint)\n",
    "        self.c.bind('<ButtonRelease-1>', self.reset)\n",
    "\n",
    "    def use_pen(self):\n",
    "        self.activate_button(self.pen_button)\n",
    "\n",
    "    def use_brush(self):\n",
    "        self.activate_button(self.brush_button)\n",
    "\n",
    "    def choose_color(self):\n",
    "        self.eraser_on = False\n",
    "        self.color = askcolor(color=self.color)[1]\n",
    "\n",
    "    def use_eraser(self):\n",
    "        self.activate_button(self.eraser_button, eraser_mode=True)\n",
    "\n",
    "    def activate_button(self, some_button, eraser_mode=False):\n",
    "        self.active_button.config(relief=RAISED)\n",
    "        some_button.config(relief=SUNKEN)\n",
    "        self.active_button = some_button\n",
    "        self.eraser_on = eraser_mode\n",
    "\n",
    "    def paint(self, event):\n",
    "        self.line_width = self.choose_size_button.get()\n",
    "        paint_color = 'white' if self.eraser_on else self.color\n",
    "        if self.old_x and self.old_y:\n",
    "            self.c.create_line(self.old_x, self.old_y, event.x, event.y,\n",
    "                               width=self.line_width, fill=paint_color,\n",
    "                               capstyle=ROUND, smooth=TRUE, splinesteps=36)\n",
    "        self.old_x = event.x\n",
    "        self.old_y = event.y\n",
    "\n",
    "    def reset(self, event):\n",
    "        self.old_x, self.old_y = None, None\n",
    "\n",
    "\n",
    "if __name__ == '__main__':\n",
    "    Paint()"
   ]
  },
  {
   "cell_type": "markdown",
   "metadata": {},
   "source": [
    "## CodeChef October Challange"
   ]
  },
  {
   "cell_type": "code",
   "execution_count": 15,
   "metadata": {},
   "outputs": [
    {
     "name": "stdout",
     "output_type": "stream",
     "text": [
      "6\n",
      "6 2 5 3\n",
      "YES\n",
      "12 2 5 3\n",
      "YES\n",
      "\n"
     ]
    },
    {
     "ename": "ValueError",
     "evalue": "not enough values to unpack (expected 4, got 0)",
     "output_type": "error",
     "traceback": [
      "\u001b[0;31m---------------------------------------------------------------------------\u001b[0m",
      "\u001b[0;31mValueError\u001b[0m                                Traceback (most recent call last)",
      "\u001b[0;32m<ipython-input-15-20f9e6683b74>\u001b[0m in \u001b[0;36m<module>\u001b[0;34m\u001b[0m\n\u001b[1;32m      1\u001b[0m \u001b[0md\u001b[0m\u001b[0;34m=\u001b[0m\u001b[0mint\u001b[0m\u001b[0;34m(\u001b[0m\u001b[0minput\u001b[0m\u001b[0;34m(\u001b[0m\u001b[0;34m)\u001b[0m\u001b[0;34m)\u001b[0m\u001b[0;34m\u001b[0m\u001b[0;34m\u001b[0m\u001b[0m\n\u001b[1;32m      2\u001b[0m \u001b[0;32mfor\u001b[0m \u001b[0mv\u001b[0m \u001b[0;32min\u001b[0m \u001b[0mrange\u001b[0m\u001b[0;34m(\u001b[0m\u001b[0md\u001b[0m\u001b[0;34m)\u001b[0m\u001b[0;34m:\u001b[0m\u001b[0;34m\u001b[0m\u001b[0;34m\u001b[0m\u001b[0m\n\u001b[0;32m----> 3\u001b[0;31m     \u001b[0mn\u001b[0m\u001b[0;34m,\u001b[0m\u001b[0mk\u001b[0m\u001b[0;34m,\u001b[0m\u001b[0mx\u001b[0m\u001b[0;34m,\u001b[0m\u001b[0my\u001b[0m\u001b[0;34m=\u001b[0m\u001b[0mmap\u001b[0m\u001b[0;34m(\u001b[0m\u001b[0mint\u001b[0m\u001b[0;34m,\u001b[0m\u001b[0minput\u001b[0m\u001b[0;34m(\u001b[0m\u001b[0;34m)\u001b[0m\u001b[0;34m.\u001b[0m\u001b[0msplit\u001b[0m\u001b[0;34m(\u001b[0m\u001b[0;34m)\u001b[0m\u001b[0;34m)\u001b[0m\u001b[0;34m\u001b[0m\u001b[0;34m\u001b[0m\u001b[0m\n\u001b[0m\u001b[1;32m      4\u001b[0m     \u001b[0ms\u001b[0m\u001b[0;34m=\u001b[0m\u001b[0;34m[\u001b[0m\u001b[0;34m]\u001b[0m\u001b[0;34m\u001b[0m\u001b[0;34m\u001b[0m\u001b[0m\n\u001b[1;32m      5\u001b[0m     \u001b[0mfirstcity\u001b[0m\u001b[0;34m=\u001b[0m\u001b[0mx\u001b[0m\u001b[0;34m\u001b[0m\u001b[0;34m\u001b[0m\u001b[0m\n",
      "\u001b[0;31mValueError\u001b[0m: not enough values to unpack (expected 4, got 0)"
     ]
    }
   ],
   "source": [
    "d=int(input())\n",
    "for v in range(d):\n",
    "    n,k,x,y=map(int,input().split())\n",
    "    s=[]\n",
    "    firstcity=x\n",
    "    while True:\n",
    "        nextcity=(firstcity+k)%n\n",
    "        s.append(nextcity)\n",
    "        firstcity=nextcity\n",
    "        if x in s:\n",
    "            break\n",
    "    if y in s:\n",
    "        print(\"YES\")\n",
    "    else:\n",
    "        print(\"NO\")\n",
    "            \n",
    "            "
   ]
  },
  {
   "cell_type": "code",
   "execution_count": 10,
   "metadata": {},
   "outputs": [
    {
     "name": "stdout",
     "output_type": "stream",
     "text": [
      "2\n",
      "6 5 \n",
      "10 5 5 3 2 1\n",
      "6\n",
      "1 1\n",
      "100\n",
      "101\n"
     ]
    }
   ],
   "source": [
    "for h in range(int(input())):\n",
    "    n,k=map(int,input().split())\n",
    "    array=list(map(int,input().split()))\n",
    "    leftques=0\n",
    "    ans=0\n",
    "    for j,d in enumerate(array):\n",
    "        ques=d+leftques\n",
    "        answered=ques-k\n",
    "        if answered<0:\n",
    "            ans=j+1\n",
    "            break\n",
    "        leftques=answered\n",
    "    if not ans:\n",
    "        totalques=sum(array)\n",
    "        if (totalques%k<=k):\n",
    "            ans=(totalques//k)+1\n",
    "        \n",
    "    print(ans)\n",
    "            "
   ]
  },
  {
   "cell_type": "code",
   "execution_count": 26,
   "metadata": {},
   "outputs": [
    {
     "name": "stdout",
     "output_type": "stream",
     "text": [
      "3\n",
      "4\n",
      "1 3\n",
      "2 3\n",
      "[1, 3, 2]\n",
      "3\n",
      "1 3\n",
      "2 3\n",
      "[1, 3, 2]\n",
      "5\n",
      "1 3\n",
      "2 3\n",
      "3 5\n",
      "4 5\n",
      "[1, 3, 2, 5, 4]\n"
     ]
    }
   ],
   "source": [
    "for j in range(int(input())):\n",
    "    f=int(input())\n",
    "    k=[]\n",
    "    for j in range(1,f+1):\n",
    "        for c in range(j+1,f+1):\n",
    "            if j&c>0:\n",
    "                print(j,c)\n",
    "                if j not in k:\n",
    "                    k.append(j)\n",
    "                if c not in k:\n",
    "                    k.append(c)\n",
    "                break\n",
    "    print(k)"
   ]
  },
  {
   "cell_type": "code",
   "execution_count": 32,
   "metadata": {},
   "outputs": [
    {
     "ename": "SyntaxError",
     "evalue": "unexpected EOF while parsing (<ipython-input-32-1d8a31776cbd>, line 8)",
     "output_type": "error",
     "traceback": [
      "\u001b[0;36m  File \u001b[0;32m\"<ipython-input-32-1d8a31776cbd>\"\u001b[0;36m, line \u001b[0;32m8\u001b[0m\n\u001b[0;31m    \u001b[0m\n\u001b[0m    ^\u001b[0m\n\u001b[0;31mSyntaxError\u001b[0m\u001b[0;31m:\u001b[0m unexpected EOF while parsing\n"
     ]
    }
   ],
   "source": [
    "for j in range(int(input())):\n",
    "    n,x,p,k=map(int,input().split())\n",
    "    arr=sorted(list(map(int,input().split())))\n",
    "    while True:\n",
    "        if arr[p-1]==x:\n",
    "            print(0)\n",
    "            break\n",
    "        if x not in arr:\n",
    "            print(-1)\n",
    "            break\n",
    "        \n",
    "        a\n",
    "        "
   ]
  },
  {
   "cell_type": "markdown",
   "metadata": {},
   "source": [
    "# 4 sum"
   ]
  },
  {
   "cell_type": "code",
   "execution_count": 10,
   "metadata": {},
   "outputs": [
    {
     "ename": "KeyboardInterrupt",
     "evalue": "Interrupted by user",
     "output_type": "error",
     "traceback": [
      "\u001b[0;31m---------------------------------------------------------------------------\u001b[0m",
      "\u001b[0;31mKeyboardInterrupt\u001b[0m                         Traceback (most recent call last)",
      "\u001b[0;32m<ipython-input-10-144b316e5530>\u001b[0m in \u001b[0;36m<module>\u001b[0;34m\u001b[0m\n\u001b[0;32m----> 1\u001b[0;31m \u001b[0ms\u001b[0m \u001b[0;34m=\u001b[0m \u001b[0mlist\u001b[0m\u001b[0;34m(\u001b[0m\u001b[0mmap\u001b[0m\u001b[0;34m(\u001b[0m\u001b[0mint\u001b[0m\u001b[0;34m,\u001b[0m\u001b[0minput\u001b[0m\u001b[0;34m(\u001b[0m\u001b[0;34m)\u001b[0m\u001b[0;34m.\u001b[0m\u001b[0msplit\u001b[0m\u001b[0;34m(\u001b[0m\u001b[0;34m)\u001b[0m\u001b[0;34m)\u001b[0m\u001b[0;34m)\u001b[0m\u001b[0;34m\u001b[0m\u001b[0;34m\u001b[0m\u001b[0m\n\u001b[0m\u001b[1;32m      2\u001b[0m \u001b[0mtarget\u001b[0m \u001b[0;34m=\u001b[0m \u001b[0mint\u001b[0m\u001b[0;34m(\u001b[0m\u001b[0minput\u001b[0m\u001b[0;34m(\u001b[0m\u001b[0;34m)\u001b[0m\u001b[0;34m)\u001b[0m\u001b[0;34m\u001b[0m\u001b[0;34m\u001b[0m\u001b[0m\n\u001b[1;32m      3\u001b[0m \u001b[0;34m\u001b[0m\u001b[0m\n\u001b[1;32m      4\u001b[0m \u001b[0mc\u001b[0m \u001b[0;34m=\u001b[0m \u001b[0;34m[\u001b[0m\u001b[0;34m]\u001b[0m\u001b[0;34m\u001b[0m\u001b[0;34m\u001b[0m\u001b[0m\n\u001b[1;32m      5\u001b[0m \u001b[0ms\u001b[0m\u001b[0;34m=\u001b[0m\u001b[0msorted\u001b[0m\u001b[0;34m(\u001b[0m\u001b[0ms\u001b[0m\u001b[0;34m)\u001b[0m\u001b[0;34m\u001b[0m\u001b[0;34m\u001b[0m\u001b[0m\n",
      "\u001b[0;32m/usr/lib/python3/dist-packages/ipykernel/kernelbase.py\u001b[0m in \u001b[0;36mraw_input\u001b[0;34m(self, prompt)\u001b[0m\n\u001b[1;32m    858\u001b[0m                 \u001b[0;34m\"raw_input was called, but this frontend does not support input requests.\"\u001b[0m\u001b[0;34m\u001b[0m\u001b[0;34m\u001b[0m\u001b[0m\n\u001b[1;32m    859\u001b[0m             )\n\u001b[0;32m--> 860\u001b[0;31m         return self._input_request(str(prompt),\n\u001b[0m\u001b[1;32m    861\u001b[0m             \u001b[0mself\u001b[0m\u001b[0;34m.\u001b[0m\u001b[0m_parent_ident\u001b[0m\u001b[0;34m,\u001b[0m\u001b[0;34m\u001b[0m\u001b[0;34m\u001b[0m\u001b[0m\n\u001b[1;32m    862\u001b[0m             \u001b[0mself\u001b[0m\u001b[0;34m.\u001b[0m\u001b[0m_parent_header\u001b[0m\u001b[0;34m,\u001b[0m\u001b[0;34m\u001b[0m\u001b[0;34m\u001b[0m\u001b[0m\n",
      "\u001b[0;32m/usr/lib/python3/dist-packages/ipykernel/kernelbase.py\u001b[0m in \u001b[0;36m_input_request\u001b[0;34m(self, prompt, ident, parent, password)\u001b[0m\n\u001b[1;32m    891\u001b[0m             \u001b[0;32mexcept\u001b[0m \u001b[0mKeyboardInterrupt\u001b[0m\u001b[0;34m:\u001b[0m\u001b[0;34m\u001b[0m\u001b[0;34m\u001b[0m\u001b[0m\n\u001b[1;32m    892\u001b[0m                 \u001b[0;31m# re-raise KeyboardInterrupt, to truncate traceback\u001b[0m\u001b[0;34m\u001b[0m\u001b[0;34m\u001b[0m\u001b[0;34m\u001b[0m\u001b[0m\n\u001b[0;32m--> 893\u001b[0;31m                 \u001b[0;32mraise\u001b[0m \u001b[0mKeyboardInterrupt\u001b[0m\u001b[0;34m(\u001b[0m\u001b[0;34m\"Interrupted by user\"\u001b[0m\u001b[0;34m)\u001b[0m \u001b[0;32mfrom\u001b[0m \u001b[0;32mNone\u001b[0m\u001b[0;34m\u001b[0m\u001b[0;34m\u001b[0m\u001b[0m\n\u001b[0m\u001b[1;32m    894\u001b[0m             \u001b[0;32melse\u001b[0m\u001b[0;34m:\u001b[0m\u001b[0;34m\u001b[0m\u001b[0;34m\u001b[0m\u001b[0m\n\u001b[1;32m    895\u001b[0m                 \u001b[0;32mbreak\u001b[0m\u001b[0;34m\u001b[0m\u001b[0;34m\u001b[0m\u001b[0m\n",
      "\u001b[0;31mKeyboardInterrupt\u001b[0m: Interrupted by user"
     ]
    }
   ],
   "source": [
    "s = list(map(int,input().split()))\n",
    "target = int(input())\n",
    "\n",
    "c = []\n",
    "s=sorted(s)\n",
    "if len(s)==0:\n",
    "    print(c)\n",
    "\n",
    "\n",
    "for i in range(len(s)):\n",
    "    for j in range(i+1,len(s)):\n",
    "        target2 = target - s[i] -s[j]\n",
    "        \n",
    "        forword = j+1\n",
    "        backword = len(s)-1\n",
    "       \n",
    "        while (forword<backword):\n",
    "            \n",
    "            sum2 = s[forword] + s[backword]\n",
    "           \n",
    "            if sum2<target2:\n",
    "                forword+=1\n",
    "            elif sum2>target2:\n",
    "                backword-=1\n",
    "            else:\n",
    "                v=[]\n",
    "                v.append(s[i])\n",
    "                v.append(s[j])\n",
    "                v.append(s[forword])\n",
    "                v.append(s[backword])\n",
    "                c.append(v)\n",
    "                forword+=1\n",
    "                backword-=1\n",
    "               \n",
    "                \n",
    "print(c)\n",
    "       \n",
    "    \n",
    "     "
   ]
  },
  {
   "cell_type": "markdown",
   "metadata": {},
   "source": [
    "##   Max Consecutive Ones"
   ]
  },
  {
   "cell_type": "code",
   "execution_count": 9,
   "metadata": {},
   "outputs": [
    {
     "name": "stdout",
     "output_type": "stream",
     "text": [
      "1 0 1 1 1 1 0 0 1\n",
      "teamp 0\n",
      "curr 0\n",
      "teamp 0\n",
      "curr 1\n",
      "teamp 1\n",
      "curr 0\n",
      "teamp 0\n",
      "curr 1\n",
      "teamp 1\n",
      "curr 2\n",
      "teamp 2\n",
      "curr 3\n",
      "teamp 3\n",
      "curr 4\n",
      "teamp 4\n",
      "curr 0\n",
      "teamp 0\n",
      "curr 0\n",
      "4\n"
     ]
    }
   ],
   "source": [
    "nums=list(map(int,input().split()))\n",
    "maxOnes,curr=0,0\n",
    "for i in range(len(nums)):\n",
    "    temp=curr \n",
    "    curr+=nums[i]\n",
    "    if curr>maxOnes: \n",
    "        maxOnes=curr\n",
    "    if temp==curr: \n",
    "        curr=0\n",
    "print(maxOnes)"
   ]
  },
  {
   "cell_type": "code",
   "execution_count": 11,
   "metadata": {},
   "outputs": [
    {
     "name": "stdout",
     "output_type": "stream",
     "text": [
      "111 2 55 4 5555\n",
      "2\n"
     ]
    }
   ],
   "source": [
    "nums=list(map(int,input().split()))\n",
    "evendigits=0\n",
    "for j in nums:\n",
    "    s=str(j)\n",
    "    if len(s)%2==0:\n",
    "        evendigits+=1\n",
    "print(evendigits)"
   ]
  },
  {
   "cell_type": "code",
   "execution_count": 50,
   "metadata": {},
   "outputs": [
    {
     "name": "stdout",
     "output_type": "stream",
     "text": [
      "[0, 0, 4, 1, 0, 0, 0, 0, 8]\n",
      "[0, 0, 4, 1, 0, 0, 0, 0, 8]\n"
     ]
    }
   ],
   "source": [
    "arr=[0,4,1,0,0,8,0,0,3]\n",
    "print([0,0,4,1,0,0,0,0,8])\n",
    "j=0\n",
    "d=len(arr)\n",
    "while True:\n",
    "    if arr[j] == 0:\n",
    "        arr.insert(j,0)\n",
    "        j+=1\n",
    "        arr.pop()\n",
    "    j+=1\n",
    "    if j>d-1:\n",
    "        break\n",
    "print(arr)"
   ]
  },
  {
   "cell_type": "markdown",
   "metadata": {},
   "source": [
    "## Merge Sorted Array"
   ]
  },
  {
   "cell_type": "code",
   "execution_count": 81,
   "metadata": {
    "scrolled": true
   },
   "outputs": [
    {
     "name": "stdout",
     "output_type": "stream",
     "text": [
      "1 2 3 0 0 0\n",
      "3\n",
      "2 5 6\n",
      "3\n",
      "[1, 2, 2, 3, 5, 6]\n"
     ]
    }
   ],
   "source": [
    "nums1 = list(map(int,input().split()))\n",
    "m = int(input())\n",
    "nums2 = list(map(int,input().split()))\n",
    "n = int(input())\n",
    "j=0\n",
    "\n",
    "l = []\n",
    "l.append(nums1[:m])\n",
    "l.append(nums2[:n])\n",
    "nums1.clear()\n",
    "new = l[0] + l[1]\n",
    "nums1 += (sorted(new))\n",
    "print(nums1)\n",
    "\n",
    "# nums1[m:len(nums1)] = nums2 \n",
    "# nums1.sort()"
   ]
  },
  {
   "cell_type": "code",
   "execution_count": null,
   "metadata": {},
   "outputs": [],
   "source": []
  }
 ],
 "metadata": {
  "kernelspec": {
   "display_name": "Python 3",
   "language": "python",
   "name": "python3"
  },
  "language_info": {
   "codemirror_mode": {
    "name": "ipython",
    "version": 3
   },
   "file_extension": ".py",
   "mimetype": "text/x-python",
   "name": "python",
   "nbconvert_exporter": "python",
   "pygments_lexer": "ipython3",
   "version": "3.8.2"
  }
 },
 "nbformat": 4,
 "nbformat_minor": 4
}
