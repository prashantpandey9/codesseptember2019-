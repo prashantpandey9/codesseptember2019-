{
 "cells": [
  {
   "cell_type": "markdown",
   "metadata": {},
   "source": [
    "### Multiple occurrences"
   ]
  },
  {
   "cell_type": "markdown",
   "metadata": {},
   "source": [
    "###  SAMPLE INPUT\n",
    "\n",
    "1 <br />\n",
    "5 <br />\n",
    "1 2 3 3 2\n",
    "\n"
   ]
  },
  {
   "cell_type": "code",
   "execution_count": 6,
   "metadata": {},
   "outputs": [
    {
     "name": "stdout",
     "output_type": "stream",
     "text": [
      "1\n",
      "11\n",
      "1 2 1 3 2 1 2 3 3 6 1\n",
      "\n",
      "34\n"
     ]
    }
   ],
   "source": [
    "for k in range(int(input())):\n",
    "    n = int(input())\n",
    "    arr = list(map(int,input().split()))\n",
    "    v = {}\n",
    "    c = {}\n",
    "    o = 0\n",
    "    for j in range(n):\n",
    "        v[arr[j]] = j+1\n",
    "        if arr[j] not in c:\n",
    "                c[arr[j]] = j+1\n",
    "        o+=v[arr[j]]-c[arr[j]]\n",
    "#     print()\n",
    "    print(o)"
   ]
  }
 ],
 "metadata": {
  "kernelspec": {
   "display_name": "Python 3",
   "language": "python",
   "name": "python3"
  },
  "language_info": {
   "codemirror_mode": {
    "name": "ipython",
    "version": 3
   },
   "file_extension": ".py",
   "mimetype": "text/x-python",
   "name": "python",
   "nbconvert_exporter": "python",
   "pygments_lexer": "ipython3",
   "version": "3.8.5"
  }
 },
 "nbformat": 4,
 "nbformat_minor": 4
}
