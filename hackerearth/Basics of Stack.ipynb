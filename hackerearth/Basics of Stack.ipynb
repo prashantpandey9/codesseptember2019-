{
 "cells": [
  {
   "cell_type": "code",
   "execution_count": 18,
   "metadata": {
    "scrolled": true
   },
   "outputs": [
    {
     "name": "stdout",
     "output_type": "stream",
     "text": [
      "5 5\n",
      "62 70 28 62 92\n",
      "DIGUT [8, 7, 10, 8, 11]\n",
      "1\n",
      "2\n",
      "5\n",
      "-1\n",
      "3\n",
      "4\n",
      "4\n",
      "-1\n",
      "2\n",
      "-1\n"
     ]
    }
   ],
   "source": [
    "n,q = map(int,input().split())\n",
    "arr = list(map(int,input().split()))\n",
    "sum_of_digits = [sum(int(digit) for digit in str(j)) for j in arr]\n",
    "# print(\"DIGUT\", sum_of_digits)\n",
    "for j in range(q):\n",
    "    query = int(input())\n",
    "    d = sum_of_digits[query-1]\n",
    "#     print(\"sym\", d)\n",
    "    if query!=n:\n",
    "        mi = min(sum_of_digits[query:])\n",
    "#         print(sum_of_digits[query:], \"d\", mi)\n",
    "    else:\n",
    "        print(-1)\n",
    "        continue\n",
    "        \n",
    "    if query!=n and mi<d:\n",
    "        print(sum_of_digits[query:].index(mi)+1+query)\n",
    "#         print(\"mi\", mi, 'sum', d, )\n",
    "    else:\n",
    "        print(-1)\n",
    "\n"
   ]
  },
  {
   "cell_type": "code",
   "execution_count": 21,
   "metadata": {},
   "outputs": [
    {
     "name": "stdout",
     "output_type": "stream",
     "text": [
      "5 5\n",
      "62 70 28 62 92\n",
      "1\n",
      "2\n",
      "3\n",
      "4\n",
      "2\n",
      "-1\n",
      "3\n",
      "4\n",
      "5\n",
      "-1\n"
     ]
    }
   ],
   "source": [
    "\n",
    "[n, q] = map(int, input().split())\n",
    "a = list(map(int, input().split()))\n",
    "while q > 0:\n",
    "    q -= 1\n",
    "    i = int(input()) - 1\n",
    "    ans = -2\n",
    "    for j in range(i + 1, n):\n",
    "        if a[i] < a[j] and sum(map(int, str(a[i]))) > sum(map(int, str(a[j]))):\n",
    "            ans = j\n",
    "            break\n",
    "\n",
    "    print(ans + 1)\n",
    "\n"
   ]
  },
  {
   "cell_type": "code",
   "execution_count": null,
   "metadata": {},
   "outputs": [],
   "source": []
  }
 ],
 "metadata": {
  "kernelspec": {
   "display_name": "Python 3",
   "language": "python",
   "name": "python3"
  },
  "language_info": {
   "codemirror_mode": {
    "name": "ipython",
    "version": 3
   },
   "file_extension": ".py",
   "mimetype": "text/x-python",
   "name": "python",
   "nbconvert_exporter": "python",
   "pygments_lexer": "ipython3",
   "version": "3.8.5"
  }
 },
 "nbformat": 4,
 "nbformat_minor": 4
}
