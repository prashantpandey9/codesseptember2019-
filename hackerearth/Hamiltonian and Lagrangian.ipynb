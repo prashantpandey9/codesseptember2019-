{
 "cells": [
  {
   "cell_type": "code",
   "execution_count": 26,
   "metadata": {
    "scrolled": true
   },
   "outputs": [
    {
     "name": "stdout",
     "output_type": "stream",
     "text": [
      "6\n",
      "16 17 4 3 5 2\n",
      "17 5 2 "
     ]
    }
   ],
   "source": [
    "w=int(input())\n",
    "f=list(map(int,input().split()))\n",
    "f.append(0)\n",
    "for j in range(len(f)):\n",
    "    arr=f[j+1:len(f)]\n",
    "    if len(arr)==0:\n",
    "            break\n",
    "    if (f[j]>max(arr)):\n",
    "        print(f[j],end=' ')\n"
   ]
  },
  {
   "cell_type": "code",
   "execution_count": 29,
   "metadata": {},
   "outputs": [
    {
     "name": "stdout",
     "output_type": "stream",
     "text": [
      "6\n",
      "16 17 4 3 5 2\n",
      "17 5 2 "
     ]
    }
   ],
   "source": [
    "n = int(input())\n",
    "alist = list(map(int,input().split()))\n",
    "flag = 0\n",
    "for i in range(n):\n",
    "    b = alist.pop(0)\n",
    "    for j in alist:\n",
    "        if j > b:\n",
    "            flag = 1\n",
    "            break\n",
    "\n",
    "    if flag is 0:\n",
    "        print (b,end=\" \")\n",
    "    flag = 0\n"
   ]
  },
  {
   "cell_type": "code",
   "execution_count": null,
   "metadata": {},
   "outputs": [],
   "source": []
  },
  {
   "cell_type": "code",
   "execution_count": null,
   "metadata": {},
   "outputs": [],
   "source": []
  }
 ],
 "metadata": {
  "kernelspec": {
   "display_name": "Python 3",
   "language": "python",
   "name": "python3"
  },
  "language_info": {
   "codemirror_mode": {
    "name": "ipython",
    "version": 3
   },
   "file_extension": ".py",
   "mimetype": "text/x-python",
   "name": "python",
   "nbconvert_exporter": "python",
   "pygments_lexer": "ipython3",
   "version": "3.6.9"
  }
 },
 "nbformat": 4,
 "nbformat_minor": 4
}
