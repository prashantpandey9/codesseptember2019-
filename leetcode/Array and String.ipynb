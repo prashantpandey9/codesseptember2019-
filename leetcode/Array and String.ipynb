{
 "cells": [
  {
   "cell_type": "markdown",
   "metadata": {},
   "source": [
    "### Array and String"
   ]
  },
  {
   "cell_type": "markdown",
   "metadata": {},
   "source": [
    "#### Find Pivot Index"
   ]
  },
  {
   "cell_type": "code",
   "execution_count": 7,
   "metadata": {},
   "outputs": [],
   "source": [
    "class Solution(object):\n",
    "    def pivotIndex(self, nums):\n",
    "        S = sum(nums)\n",
    "        leftsum = 0\n",
    "        for i, x in enumerate(nums):\n",
    "            if leftsum == (S - leftsum - x):\n",
    "                return i\n",
    "            leftsum += x\n",
    "        return -1"
   ]
  },
  {
   "cell_type": "markdown",
   "metadata": {},
   "source": [
    "#### Largest Number At Least Twice of Others"
   ]
  },
  {
   "cell_type": "code",
   "execution_count": 28,
   "metadata": {},
   "outputs": [
    {
     "name": "stdout",
     "output_type": "stream",
     "text": [
      "1 2 1 0 6\n",
      "4\n",
      "-1\n"
     ]
    }
   ],
   "source": [
    "nums = list(map(int,input().split()))\n",
    "v = max(nums)\n",
    "m = max(nums)\n",
    "if all(m >= 2*x for x in nums if x != m):\n",
    "    print(nums.index(m))\n",
    "print(-1)\n"
   ]
  },
  {
   "cell_type": "markdown",
   "metadata": {},
   "source": [
    "####   Plus One"
   ]
  },
  {
   "cell_type": "code",
   "execution_count": null,
   "metadata": {},
   "outputs": [],
   "source": [
    "num = 0\n",
    "for d in digits:\n",
    "    num *= 10\n",
    "    num += d\n",
    "\n",
    "num += 1\n",
    "output = []\n",
    "\n",
    "while num:\n",
    "    temp = num % 10\n",
    "    num /= 10\n",
    "    output.append(temp)\n",
    "\n",
    "return output[::-1]"
   ]
  },
  {
   "cell_type": "markdown",
   "metadata": {},
   "source": [
    "### Longest Common Prefix"
   ]
  },
  {
   "cell_type": "code",
   "execution_count": 9,
   "metadata": {},
   "outputs": [
    {
     "name": "stdout",
     "output_type": "stream",
     "text": [
      "flight flower\n",
      "fl\n"
     ]
    }
   ],
   "source": [
    "strs = [\"flower\",\"flow\",\"flight\"]\n",
    "if not strs: print(\"\")\n",
    "if len(strs) == 1: print(strs[0])\n",
    "\n",
    "strs.sort()\n",
    "p = \"\"\n",
    "for x, y in zip(strs[0], strs[-1]):\n",
    "    print(x,y)\n",
    "    if x == y: p+=x\n",
    "    else: break\n",
    "print(p)"
   ]
  },
  {
   "cell_type": "markdown",
   "metadata": {},
   "source": [
    "### Two Sum II - Input array is sorted"
   ]
  },
  {
   "cell_type": "code",
   "execution_count": 8,
   "metadata": {},
   "outputs": [
    {
     "name": "stdout",
     "output_type": "stream",
     "text": [
      "-1 0\n",
      "-1\n",
      "\n",
      "0\n",
      "[1, 2]\n"
     ]
    }
   ],
   "source": [
    "d = list(map(int,input().split()))\n",
    "target = int(input())\n",
    "c = []\n",
    "for j in range(len(d)):\n",
    "    v = target-d[j]\n",
    "    rr = d[j+1:]\n",
    "    if v in rr:\n",
    "        c.append(j+1)\n",
    "        c.append(rr.index(v)+j+1+1)\n",
    "        break\n",
    "print(c)"
   ]
  },
  {
   "cell_type": "code",
   "execution_count": 12,
   "metadata": {},
   "outputs": [
    {
     "name": "stdout",
     "output_type": "stream",
     "text": [
      "2 7 11 15\n",
      "9\n",
      "17\n",
      "13\n",
      "9\n",
      "[1, 2]\n"
     ]
    }
   ],
   "source": [
    "numbers = list(map(int,input().split()))\n",
    "target = int(input())\n",
    "c = []\n",
    "start = 0\n",
    "end = len(numbers)-1\n",
    "while start<end:\n",
    "    plus = numbers[start] + numbers[end]\n",
    "    print(plus)\n",
    "    if plus == target:\n",
    "        c.append(start+1)\n",
    "        c.append(end+1)\n",
    "        break\n",
    "    elif plus > target:\n",
    "        end-=1 \n",
    "    else:\n",
    "        start+=1\n",
    "print(c)"
   ]
  },
  {
   "cell_type": "markdown",
   "metadata": {},
   "source": [
    "### Minimum Size Subarray Sum"
   ]
  },
  {
   "cell_type": "code",
   "execution_count": 17,
   "metadata": {},
   "outputs": [
    {
     "name": "stdout",
     "output_type": "stream",
     "text": [
      "1 2 3 4 5\n",
      "Enter sum to make7\n",
      "[5] 5\n",
      "0\n"
     ]
    }
   ],
   "source": [
    "class Solution:\n",
    "    def minSubArrayLen(self, s: int, nums: List[int]) -> int:\n",
    "        result = float('inf')\n",
    "        left = 0\n",
    "        val = 0\n",
    "        for i in range(len(nums)):\n",
    "            val+=nums[i]\n",
    "            while(val>=s):\n",
    "                result = min(result, i+1-left)\n",
    "                val -= nums[left]\n",
    "                left+=1\n",
    "        \n",
    "        if result!=float('inf'):\n",
    "            return result\n",
    "        else:\n",
    "            return 0\n",
    "        "
   ]
  },
  {
   "cell_type": "markdown",
   "metadata": {},
   "source": [
    "### Pascals Triangle"
   ]
  },
  {
   "cell_type": "code",
   "execution_count": 48,
   "metadata": {},
   "outputs": [
    {
     "name": "stdout",
     "output_type": "stream",
     "text": [
      "[[1], [1, 1], [1, 2, 1], [1, 3, 3, 1], [1, 4, 6, 4, 1]]\n"
     ]
    }
   ],
   "source": [
    "nums = 5\n",
    "triangle = []\n",
    "for i in range(nums):\n",
    "    c = [None for _ in range(i+1)]\n",
    "    c[0],c[-1]=1,1\n",
    "    for j in range(1,len(c)-1):\n",
    "        c[j] = triangle[i-1][j-1] + triangle[i-1][j]\n",
    "        \n",
    "    \n",
    "    triangle.append(c)\n",
    "    \n",
    "print(triangle)"
   ]
  },
  {
   "cell_type": "code",
   "execution_count": null,
   "metadata": {},
   "outputs": [],
   "source": []
  }
 ],
 "metadata": {
  "kernelspec": {
   "display_name": "Python 3",
   "language": "python",
   "name": "python3"
  },
  "language_info": {
   "codemirror_mode": {
    "name": "ipython",
    "version": 3
   },
   "file_extension": ".py",
   "mimetype": "text/x-python",
   "name": "python",
   "nbconvert_exporter": "python",
   "pygments_lexer": "ipython3",
   "version": "3.8.5"
  }
 },
 "nbformat": 4,
 "nbformat_minor": 4
}
