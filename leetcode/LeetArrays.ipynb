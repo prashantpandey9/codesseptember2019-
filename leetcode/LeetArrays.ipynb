{
 "cells": [
  {
   "cell_type": "markdown",
   "metadata": {},
   "source": [
    "## Mounting Array"
   ]
  },
  {
   "cell_type": "code",
   "execution_count": 20,
   "metadata": {},
   "outputs": [
    {
     "name": "stdout",
     "output_type": "stream",
     "text": [
      "9\n",
      "True\n"
     ]
    }
   ],
   "source": [
    "A=[0,1,2,3,4,5,6,7,8,9]\n",
    "d=A.index(max(A))\n",
    "print(d)\n",
    "if len(A)<3:\n",
    "    print(False)\n",
    "    \n",
    "if d+1 == len(A) or d==0:\n",
    "    print(False)\n",
    "    \n",
    "for j in range(d-1):\n",
    "    if A[j]<A[j+1]:\n",
    "        pass\n",
    "    else:\n",
    "        print(False)\n",
    "        \n",
    "for j in range(d,len(A)-1):\n",
    "    if A[j]>A[j+1]:\n",
    "        pass\n",
    "    else:\n",
    "        print(False)\n",
    "        \n",
    "print(True)"
   ]
  },
  {
   "cell_type": "markdown",
   "metadata": {},
   "source": [
    "##   Replace Elements with Greatest Element on Right Side\n"
   ]
  },
  {
   "cell_type": "code",
   "execution_count": 27,
   "metadata": {
    "scrolled": true
   },
   "outputs": [
    {
     "name": "stdout",
     "output_type": "stream",
     "text": [
      "1 2 5 4\n",
      "[5, 5, 4, -1]\n"
     ]
    }
   ],
   "source": [
    "arr = list(map(int,input().split()))\n",
    "for j in range(len(arr)-1, 0, -1):\n",
    "    if arr[j-1]<arr[j]:\n",
    "        arr[j-1]=arr[j]\n",
    "arr.pop(0)\n",
    "arr.append(-1)\n",
    "print(arr)"
   ]
  },
  {
   "cell_type": "markdown",
   "metadata": {},
   "source": [
    "##  Move Zeroes"
   ]
  },
  {
   "cell_type": "code",
   "execution_count": 42,
   "metadata": {},
   "outputs": [
    {
     "name": "stdout",
     "output_type": "stream",
     "text": [
      "5 5 6 0 0 45 5 0 0\n",
      "[5, 5, 6, 45, 5, 0, 0, 0, 0]\n"
     ]
    }
   ],
   "source": [
    "nums = list(map(int,input().split()))\n",
    "# d=nums.count(0)\n",
    "d=0\n",
    "for j in range(len(nums)):\n",
    "    if nums[j]!=0:\n",
    "        nums[d]=nums[j]\n",
    "        d+=1\n",
    "for j in range(d,len(nums)):\n",
    "    if j!=0:\n",
    "        nums[d]=0\n",
    "        d+=1\n",
    "print(nums)"
   ]
  },
  {
   "cell_type": "markdown",
   "metadata": {},
   "source": [
    "## Sort Array By Parity"
   ]
  },
  {
   "cell_type": "code",
   "execution_count": 47,
   "metadata": {},
   "outputs": [
    {
     "name": "stdout",
     "output_type": "stream",
     "text": [
      "2 3 3 5 5 4 6 \n",
      "[2, 4, 6, 5, 5, 4, 6]\n"
     ]
    }
   ],
   "source": [
    "A = list(map(int,input().split()))\n",
    "c=0\n",
    "for j in A:\n",
    "    if j%2==0:\n",
    "        A[c]=j\n",
    "        c+=1\n",
    "    else:\n",
    "        pass\n",
    "print(A)"
   ]
  },
  {
   "cell_type": "code",
   "execution_count": 48,
   "metadata": {},
   "outputs": [
    {
     "name": "stdout",
     "output_type": "stream",
     "text": [
      "3 2 1 4 3\n",
      "3 1 3 1\n",
      "3 3 1 2\n",
      "[2, 4, 1, 3, 3]\n"
     ]
    }
   ],
   "source": [
    "A = list(map(int,input().split()))\n",
    "j = 0\n",
    "n = len(A)\n",
    "for i in range(n):\n",
    "    \n",
    "    if A[i] % 2 == 0:\n",
    "        A[i], A[j] = A[j], A[i]\n",
    "        j += 1\n",
    "        print(A[i],i, A[j],j)\n",
    "\n",
    "print(A)"
   ]
  },
  {
   "cell_type": "code",
   "execution_count": 50,
   "metadata": {},
   "outputs": [
    {
     "name": "stdout",
     "output_type": "stream",
     "text": [
      "1 2 3 5 4 \n",
      "[2, 4, 1, 3, 5]\n"
     ]
    }
   ],
   "source": [
    "A = list(map(int,input().split()))\n",
    "A.sort(key = lambda x: x % 2)\n",
    "print(A)"
   ]
  },
  {
   "cell_type": "markdown",
   "metadata": {},
   "source": [
    "## Height Checker"
   ]
  },
  {
   "cell_type": "code",
   "execution_count": 55,
   "metadata": {},
   "outputs": [
    {
     "name": "stdout",
     "output_type": "stream",
     "text": [
      "1 1 2 3 6 5\n",
      "[1, 1, 2, 3, 5, 6]\n",
      "2\n"
     ]
    }
   ],
   "source": [
    "heights = list(map(int,input().split()))\n",
    "s = sorted(heights)\n",
    "print(s)\n",
    "d = 0\n",
    "for j in range(len(heights)):\n",
    "    if heights[j]!=s[j]:\n",
    "        d+=1\n",
    "print(d)"
   ]
  },
  {
   "cell_type": "code",
   "execution_count": 56,
   "metadata": {},
   "outputs": [
    {
     "name": "stdout",
     "output_type": "stream",
     "text": [
      "5 1 23 5\n",
      "4\n"
     ]
    }
   ],
   "source": [
    "heights = list(map(int,input().split()))\n",
    "target = sorted(heights)\n",
    "print(sum([x != y for x, y in zip(heights, target)]))"
   ]
  },
  {
   "cell_type": "markdown",
   "metadata": {},
   "source": [
    "## Third Maximum Number\n",
    "\n"
   ]
  },
  {
   "cell_type": "code",
   "execution_count": 59,
   "metadata": {},
   "outputs": [
    {
     "name": "stdout",
     "output_type": "stream",
     "text": [
      "1 2\n",
      "2\n"
     ]
    }
   ],
   "source": [
    "nums = list(map(int,input().split()))\n",
    "f = sorted(list(set(nums))) #use dict.fromkeys(<array>) for time\n",
    "f= f[::-1]\n",
    "if len(f)<3:\n",
    "    print(max(f))\n",
    "else:\n",
    "    print(f[2])\n"
   ]
  },
  {
   "cell_type": "markdown",
   "metadata": {},
   "source": [
    "## Find All Numbers Disappeared in an Array"
   ]
  },
  {
   "cell_type": "code",
   "execution_count": 71,
   "metadata": {},
   "outputs": [
    {
     "name": "stdout",
     "output_type": "stream",
     "text": [
      "1 1\n",
      "[2]\n"
     ]
    }
   ],
   "source": [
    "nums = list(map(int,input().split()))\n",
    "        if len(nums) == 0:\n",
    "            print([])\n",
    "\n",
    "        set_diff = list(set(range(1, len(nums) + 1)) - set(nums))\n",
    "\n",
    "        print(set_diff)\n"
   ]
  },
  {
   "cell_type": "code",
   "execution_count": null,
   "metadata": {},
   "outputs": [],
   "source": []
  }
 ],
 "metadata": {
  "kernelspec": {
   "display_name": "Python 3",
   "language": "python",
   "name": "python3"
  },
  "language_info": {
   "codemirror_mode": {
    "name": "ipython",
    "version": 3
   },
   "file_extension": ".py",
   "mimetype": "text/x-python",
   "name": "python",
   "nbconvert_exporter": "python",
   "pygments_lexer": "ipython3",
   "version": "3.8.5"
  }
 },
 "nbformat": 4,
 "nbformat_minor": 4
}
