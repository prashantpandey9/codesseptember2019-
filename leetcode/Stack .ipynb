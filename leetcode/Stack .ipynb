{
 "cells": [
  {
   "cell_type": "markdown",
   "metadata": {},
   "source": [
    "## Stack In Python\n",
    "    * Push()\n",
    "    * Pop()\n",
    "    * Peek()\n",
    "    * isEmpty()"
   ]
  },
  {
   "cell_type": "markdown",
   "metadata": {},
   "source": [
    "### Implementation\n",
    "1. Arrays\n",
    "2. Linked List"
   ]
  },
  {
   "cell_type": "markdown",
   "metadata": {},
   "source": [
    "#### Using Arrays"
   ]
  },
  {
   "cell_type": "code",
   "execution_count": 27,
   "metadata": {},
   "outputs": [
    {
     "data": {
      "text/plain": [
       "[10, 20]"
      ]
     },
     "metadata": {},
     "output_type": "display_data"
    }
   ],
   "source": [
    "def createStack(): # for initializing the stack\n",
    "    stack = []\n",
    "    return stack\n",
    "\n",
    "def isEmpty(stack): # checking if our stack is empty or not\n",
    "    return len(stack) == 0\n",
    "\n",
    "def push(stack, item): # Adding elements in the stack\n",
    "    stack.append(item)\n",
    "    return stack\n",
    "\n",
    "def peek(stack): # Checking the peek or highest element of the stack\n",
    "    if (isEmpty(stack)):\n",
    "        return \"Stack is empty\"\n",
    "    return stack[len(stack)-1]\n",
    "\n",
    "def pop(stack): # Removing the top most element from the stack\n",
    "    if (isEmpty(stack)):\n",
    "        return \"Stack is empty\"\n",
    "    \n",
    "    return stack.pop()\n",
    "\n",
    "def displayStack(stack):# Displating the whole stack.\n",
    "    return stack\n",
    "\n",
    "stack = createStack()\n",
    "push(stack, 10)\n",
    "push(stack, 20)\n",
    "push(stack, 30)\n",
    "pop(stack)\n",
    "display(stack)\n",
    "    "
   ]
  },
  {
   "cell_type": "markdown",
   "metadata": {},
   "source": [
    "#### Using LinkedList "
   ]
  },
  {
   "cell_type": "code",
   "execution_count": 28,
   "metadata": {
    "scrolled": true
   },
   "outputs": [
    {
     "name": "stdout",
     "output_type": "stream",
     "text": [
      " 10 pushed to stack\n",
      " 20 pushed to stack\n",
      " 30 pushed to stack\n",
      " 30 popped from stack\n",
      "Top element is  20 \n"
     ]
    }
   ],
   "source": [
    "# Class to represent a node\n",
    "\n",
    "\n",
    "class StackNode:\n",
    "\n",
    "    # Constructor to initialize a node\n",
    "    def __init__(self, data):\n",
    "        self.data = data\n",
    "        self.next = None\n",
    "\n",
    "\n",
    "class Stack:\n",
    "\n",
    "    # Constructor to initialize the root of linked list\n",
    "    def __init__(self):\n",
    "        self.root = None\n",
    "\n",
    "    def isEmpty(self):\n",
    "        return True if self.root is None else False\n",
    "\n",
    "    def push(self, data):\n",
    "        newNode = StackNode(data)\n",
    "        newNode.next = self.root\n",
    "        self.root = newNode\n",
    "        print(\"% d pushed to stack\" % data)\n",
    "\n",
    "    def pop(self):\n",
    "        if (self.isEmpty()):\n",
    "            return float(\"-inf\")\n",
    "        temp = self.root\n",
    "        self.root = self.root.next\n",
    "        popped = temp.data\n",
    "        return popped\n",
    "\n",
    "    def peek(self):\n",
    "        if self.isEmpty():\n",
    "            return float(\"-inf\")\n",
    "        return self.root.data\n",
    "\n",
    "\n",
    "# Driver code\n",
    "stack = Stack()\n",
    "stack.push(10)\n",
    "stack.push(20)\n",
    "stack.push(30)\n",
    "\n",
    "print (\"% d popped from stack\" % (stack.pop()))\n",
    "print (\"Top element is % d \" % (stack.peek()))\n"
   ]
  },
  {
   "cell_type": "markdown",
   "metadata": {},
   "source": [
    "## 895. Maximum Frequency Stack (LeetCode)"
   ]
  },
  {
   "cell_type": "code",
   "execution_count": 10,
   "metadata": {},
   "outputs": [
    {
     "name": "stdout",
     "output_type": "stream",
     "text": [
      "dict_keys([])\n",
      "[4, 5, 7, 5, 3, 7] {4: 1, 5: 2, 7: 2, 3: 1}\n"
     ]
    }
   ],
   "source": [
    "fre = {}\n",
    "print(fre.keys())\n",
    "def push(arr,x):\n",
    "    arr.append(x)\n",
    "    if x not in fre:\n",
    "        fre[x]=1\n",
    "    else:\n",
    "        fre[x]+=1\n",
    "\n",
    "def pop(p):\n",
    "    \n",
    "    for j in p[::-1]:\n",
    "        pass\n",
    "        \n",
    "    \n",
    "    \n",
    "p = []\n",
    "push(p,4)\n",
    "push(p,5)\n",
    "push(p,7)\n",
    "push(p,5)\n",
    "push(p,3)\n",
    "push(p,7)\n",
    "\n",
    "print(p, fre)"
   ]
  },
  {
   "cell_type": "code",
   "execution_count": 7,
   "metadata": {},
   "outputs": [
    {
     "data": {
      "text/plain": [
       "{3: 2, 34: 2, 56543: 345, 564: 3455}"
      ]
     },
     "execution_count": 7,
     "metadata": {},
     "output_type": "execute_result"
    }
   ],
   "source": [
    "e = {3: 2, 34: 2, 56543: 345, 564: 3455}\n",
    "\n",
    "e"
   ]
  }
 ],
 "metadata": {
  "kernelspec": {
   "display_name": "Python 3",
   "language": "python",
   "name": "python3"
  },
  "language_info": {
   "codemirror_mode": {
    "name": "ipython",
    "version": 3
   },
   "file_extension": ".py",
   "mimetype": "text/x-python",
   "name": "python",
   "nbconvert_exporter": "python",
   "pygments_lexer": "ipython3",
   "version": "3.8.5"
  }
 },
 "nbformat": 4,
 "nbformat_minor": 4
}
